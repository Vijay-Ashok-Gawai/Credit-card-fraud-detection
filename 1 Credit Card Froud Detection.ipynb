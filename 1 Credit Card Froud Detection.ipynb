{
 "cells": [
  {
   "cell_type": "markdown",
   "id": "3a956b33",
   "metadata": {},
   "source": [
    "## Business Problem Understanding"
   ]
  },
  {
   "cell_type": "code",
   "execution_count": 1,
   "id": "f4bf52e9",
   "metadata": {},
   "outputs": [],
   "source": [
    "import numpy as np\n",
    "import pandas as pd\n",
    "import matplotlib.pyplot as plt\n",
    "import seaborn as sns\n",
    "\n",
    "import warnings\n",
    "warnings.filterwarnings('ignore')"
   ]
  },
  {
   "cell_type": "code",
   "execution_count": 2,
   "id": "9f6a8305",
   "metadata": {},
   "outputs": [],
   "source": [
    "df=pd.read_csv(\"D:\\\\creditcard.csv\")"
   ]
  },
  {
   "cell_type": "code",
   "execution_count": 3,
   "id": "e3332ee3",
   "metadata": {},
   "outputs": [
    {
     "data": {
      "text/html": [
       "<div>\n",
       "<style scoped>\n",
       "    .dataframe tbody tr th:only-of-type {\n",
       "        vertical-align: middle;\n",
       "    }\n",
       "\n",
       "    .dataframe tbody tr th {\n",
       "        vertical-align: top;\n",
       "    }\n",
       "\n",
       "    .dataframe thead th {\n",
       "        text-align: right;\n",
       "    }\n",
       "</style>\n",
       "<table border=\"1\" class=\"dataframe\">\n",
       "  <thead>\n",
       "    <tr style=\"text-align: right;\">\n",
       "      <th></th>\n",
       "      <th>Time</th>\n",
       "      <th>V1</th>\n",
       "      <th>V2</th>\n",
       "      <th>V3</th>\n",
       "      <th>V4</th>\n",
       "      <th>V5</th>\n",
       "      <th>V6</th>\n",
       "      <th>V7</th>\n",
       "      <th>V8</th>\n",
       "      <th>V9</th>\n",
       "      <th>...</th>\n",
       "      <th>V21</th>\n",
       "      <th>V22</th>\n",
       "      <th>V23</th>\n",
       "      <th>V24</th>\n",
       "      <th>V25</th>\n",
       "      <th>V26</th>\n",
       "      <th>V27</th>\n",
       "      <th>V28</th>\n",
       "      <th>Amount</th>\n",
       "      <th>Class</th>\n",
       "    </tr>\n",
       "  </thead>\n",
       "  <tbody>\n",
       "    <tr>\n",
       "      <th>0</th>\n",
       "      <td>0.0</td>\n",
       "      <td>-1.359807</td>\n",
       "      <td>-0.072781</td>\n",
       "      <td>2.536347</td>\n",
       "      <td>1.378155</td>\n",
       "      <td>-0.338321</td>\n",
       "      <td>0.462388</td>\n",
       "      <td>0.239599</td>\n",
       "      <td>0.098698</td>\n",
       "      <td>0.363787</td>\n",
       "      <td>...</td>\n",
       "      <td>-0.018307</td>\n",
       "      <td>0.277838</td>\n",
       "      <td>-0.110474</td>\n",
       "      <td>0.066928</td>\n",
       "      <td>0.128539</td>\n",
       "      <td>-0.189115</td>\n",
       "      <td>0.133558</td>\n",
       "      <td>-0.021053</td>\n",
       "      <td>149.62</td>\n",
       "      <td>0</td>\n",
       "    </tr>\n",
       "    <tr>\n",
       "      <th>1</th>\n",
       "      <td>0.0</td>\n",
       "      <td>1.191857</td>\n",
       "      <td>0.266151</td>\n",
       "      <td>0.166480</td>\n",
       "      <td>0.448154</td>\n",
       "      <td>0.060018</td>\n",
       "      <td>-0.082361</td>\n",
       "      <td>-0.078803</td>\n",
       "      <td>0.085102</td>\n",
       "      <td>-0.255425</td>\n",
       "      <td>...</td>\n",
       "      <td>-0.225775</td>\n",
       "      <td>-0.638672</td>\n",
       "      <td>0.101288</td>\n",
       "      <td>-0.339846</td>\n",
       "      <td>0.167170</td>\n",
       "      <td>0.125895</td>\n",
       "      <td>-0.008983</td>\n",
       "      <td>0.014724</td>\n",
       "      <td>2.69</td>\n",
       "      <td>0</td>\n",
       "    </tr>\n",
       "    <tr>\n",
       "      <th>2</th>\n",
       "      <td>1.0</td>\n",
       "      <td>-1.358354</td>\n",
       "      <td>-1.340163</td>\n",
       "      <td>1.773209</td>\n",
       "      <td>0.379780</td>\n",
       "      <td>-0.503198</td>\n",
       "      <td>1.800499</td>\n",
       "      <td>0.791461</td>\n",
       "      <td>0.247676</td>\n",
       "      <td>-1.514654</td>\n",
       "      <td>...</td>\n",
       "      <td>0.247998</td>\n",
       "      <td>0.771679</td>\n",
       "      <td>0.909412</td>\n",
       "      <td>-0.689281</td>\n",
       "      <td>-0.327642</td>\n",
       "      <td>-0.139097</td>\n",
       "      <td>-0.055353</td>\n",
       "      <td>-0.059752</td>\n",
       "      <td>378.66</td>\n",
       "      <td>0</td>\n",
       "    </tr>\n",
       "    <tr>\n",
       "      <th>3</th>\n",
       "      <td>1.0</td>\n",
       "      <td>-0.966272</td>\n",
       "      <td>-0.185226</td>\n",
       "      <td>1.792993</td>\n",
       "      <td>-0.863291</td>\n",
       "      <td>-0.010309</td>\n",
       "      <td>1.247203</td>\n",
       "      <td>0.237609</td>\n",
       "      <td>0.377436</td>\n",
       "      <td>-1.387024</td>\n",
       "      <td>...</td>\n",
       "      <td>-0.108300</td>\n",
       "      <td>0.005274</td>\n",
       "      <td>-0.190321</td>\n",
       "      <td>-1.175575</td>\n",
       "      <td>0.647376</td>\n",
       "      <td>-0.221929</td>\n",
       "      <td>0.062723</td>\n",
       "      <td>0.061458</td>\n",
       "      <td>123.50</td>\n",
       "      <td>0</td>\n",
       "    </tr>\n",
       "    <tr>\n",
       "      <th>4</th>\n",
       "      <td>2.0</td>\n",
       "      <td>-1.158233</td>\n",
       "      <td>0.877737</td>\n",
       "      <td>1.548718</td>\n",
       "      <td>0.403034</td>\n",
       "      <td>-0.407193</td>\n",
       "      <td>0.095921</td>\n",
       "      <td>0.592941</td>\n",
       "      <td>-0.270533</td>\n",
       "      <td>0.817739</td>\n",
       "      <td>...</td>\n",
       "      <td>-0.009431</td>\n",
       "      <td>0.798278</td>\n",
       "      <td>-0.137458</td>\n",
       "      <td>0.141267</td>\n",
       "      <td>-0.206010</td>\n",
       "      <td>0.502292</td>\n",
       "      <td>0.219422</td>\n",
       "      <td>0.215153</td>\n",
       "      <td>69.99</td>\n",
       "      <td>0</td>\n",
       "    </tr>\n",
       "  </tbody>\n",
       "</table>\n",
       "<p>5 rows × 31 columns</p>\n",
       "</div>"
      ],
      "text/plain": [
       "   Time        V1        V2        V3        V4        V5        V6        V7  \\\n",
       "0   0.0 -1.359807 -0.072781  2.536347  1.378155 -0.338321  0.462388  0.239599   \n",
       "1   0.0  1.191857  0.266151  0.166480  0.448154  0.060018 -0.082361 -0.078803   \n",
       "2   1.0 -1.358354 -1.340163  1.773209  0.379780 -0.503198  1.800499  0.791461   \n",
       "3   1.0 -0.966272 -0.185226  1.792993 -0.863291 -0.010309  1.247203  0.237609   \n",
       "4   2.0 -1.158233  0.877737  1.548718  0.403034 -0.407193  0.095921  0.592941   \n",
       "\n",
       "         V8        V9  ...       V21       V22       V23       V24       V25  \\\n",
       "0  0.098698  0.363787  ... -0.018307  0.277838 -0.110474  0.066928  0.128539   \n",
       "1  0.085102 -0.255425  ... -0.225775 -0.638672  0.101288 -0.339846  0.167170   \n",
       "2  0.247676 -1.514654  ...  0.247998  0.771679  0.909412 -0.689281 -0.327642   \n",
       "3  0.377436 -1.387024  ... -0.108300  0.005274 -0.190321 -1.175575  0.647376   \n",
       "4 -0.270533  0.817739  ... -0.009431  0.798278 -0.137458  0.141267 -0.206010   \n",
       "\n",
       "        V26       V27       V28  Amount  Class  \n",
       "0 -0.189115  0.133558 -0.021053  149.62      0  \n",
       "1  0.125895 -0.008983  0.014724    2.69      0  \n",
       "2 -0.139097 -0.055353 -0.059752  378.66      0  \n",
       "3 -0.221929  0.062723  0.061458  123.50      0  \n",
       "4  0.502292  0.219422  0.215153   69.99      0  \n",
       "\n",
       "[5 rows x 31 columns]"
      ]
     },
     "execution_count": 3,
     "metadata": {},
     "output_type": "execute_result"
    }
   ],
   "source": [
    "df.head()"
   ]
  },
  {
   "cell_type": "code",
   "execution_count": 4,
   "id": "c801ec67",
   "metadata": {},
   "outputs": [
    {
     "name": "stdout",
     "output_type": "stream",
     "text": [
      "<class 'pandas.core.frame.DataFrame'>\n",
      "RangeIndex: 284807 entries, 0 to 284806\n",
      "Data columns (total 31 columns):\n",
      " #   Column  Non-Null Count   Dtype  \n",
      "---  ------  --------------   -----  \n",
      " 0   Time    284807 non-null  float64\n",
      " 1   V1      284807 non-null  float64\n",
      " 2   V2      284807 non-null  float64\n",
      " 3   V3      284807 non-null  float64\n",
      " 4   V4      284807 non-null  float64\n",
      " 5   V5      284807 non-null  float64\n",
      " 6   V6      284807 non-null  float64\n",
      " 7   V7      284807 non-null  float64\n",
      " 8   V8      284807 non-null  float64\n",
      " 9   V9      284807 non-null  float64\n",
      " 10  V10     284807 non-null  float64\n",
      " 11  V11     284807 non-null  float64\n",
      " 12  V12     284807 non-null  float64\n",
      " 13  V13     284807 non-null  float64\n",
      " 14  V14     284807 non-null  float64\n",
      " 15  V15     284807 non-null  float64\n",
      " 16  V16     284807 non-null  float64\n",
      " 17  V17     284807 non-null  float64\n",
      " 18  V18     284807 non-null  float64\n",
      " 19  V19     284807 non-null  float64\n",
      " 20  V20     284807 non-null  float64\n",
      " 21  V21     284807 non-null  float64\n",
      " 22  V22     284807 non-null  float64\n",
      " 23  V23     284807 non-null  float64\n",
      " 24  V24     284807 non-null  float64\n",
      " 25  V25     284807 non-null  float64\n",
      " 26  V26     284807 non-null  float64\n",
      " 27  V27     284807 non-null  float64\n",
      " 28  V28     284807 non-null  float64\n",
      " 29  Amount  284807 non-null  float64\n",
      " 30  Class   284807 non-null  int64  \n",
      "dtypes: float64(30), int64(1)\n",
      "memory usage: 67.4 MB\n"
     ]
    }
   ],
   "source": [
    "df.info()"
   ]
  },
  {
   "cell_type": "code",
   "execution_count": 5,
   "id": "f3fdb037",
   "metadata": {},
   "outputs": [
    {
     "data": {
      "text/plain": [
       "Index(['Time', 'V1', 'V2', 'V3', 'V4', 'V5', 'V6', 'V7', 'V8', 'V9', 'V10',\n",
       "       'V11', 'V12', 'V13', 'V14', 'V15', 'V16', 'V17', 'V18', 'V19', 'V20',\n",
       "       'V21', 'V22', 'V23', 'V24', 'V25', 'V26', 'V27', 'V28', 'Amount',\n",
       "       'Class'],\n",
       "      dtype='object')"
      ]
     },
     "execution_count": 5,
     "metadata": {},
     "output_type": "execute_result"
    }
   ],
   "source": [
    "# lets check the columns names present in the dataset\n",
    "df.columns"
   ]
  },
  {
   "cell_type": "markdown",
   "id": "878d3919",
   "metadata": {},
   "source": [
    "## Data Understanding"
   ]
  },
  {
   "cell_type": "code",
   "execution_count": 6,
   "id": "d2170690",
   "metadata": {},
   "outputs": [
    {
     "data": {
      "text/plain": [
       "Time\n",
       "163152.0    36\n",
       "64947.0     26\n",
       "68780.0     25\n",
       "3767.0      21\n",
       "3770.0      20\n",
       "            ..\n",
       "127750.0     1\n",
       "62260.0      1\n",
       "62259.0      1\n",
       "127753.0     1\n",
       "172792.0     1\n",
       "Name: count, Length: 124592, dtype: int64"
      ]
     },
     "execution_count": 6,
     "metadata": {},
     "output_type": "execute_result"
    }
   ],
   "source": [
    "df['Time'].value_counts()"
   ]
  },
  {
   "cell_type": "code",
   "execution_count": 7,
   "id": "60e98a44",
   "metadata": {},
   "outputs": [
    {
     "data": {
      "text/plain": [
       "V1\n",
       " 2.055797    77\n",
       " 1.245674    77\n",
       " 2.053311    62\n",
       " 1.302378    60\n",
       " 2.040211    53\n",
       "             ..\n",
       "-0.938907     1\n",
       " 1.375417     1\n",
       "-3.762431     1\n",
       " 1.420284     1\n",
       "-0.533413     1\n",
       "Name: count, Length: 275663, dtype: int64"
      ]
     },
     "execution_count": 7,
     "metadata": {},
     "output_type": "execute_result"
    }
   ],
   "source": [
    "df['V1'].value_counts()"
   ]
  },
  {
   "cell_type": "code",
   "execution_count": 8,
   "id": "41d7cd6b",
   "metadata": {},
   "outputs": [
    {
     "data": {
      "text/plain": [
       "V2\n",
       "-0.326668    77\n",
       " 0.166975    77\n",
       " 0.089735    62\n",
       "-0.606529    60\n",
       "-0.146975    53\n",
       "             ..\n",
       " 0.432811     1\n",
       "-0.504471     1\n",
       "-1.210369     1\n",
       "-0.395470     1\n",
       "-0.189733     1\n",
       "Name: count, Length: 275663, dtype: int64"
      ]
     },
     "execution_count": 8,
     "metadata": {},
     "output_type": "execute_result"
    }
   ],
   "source": [
    "df['V2'].value_counts()"
   ]
  },
  {
   "cell_type": "code",
   "execution_count": 9,
   "id": "8abf886c",
   "metadata": {},
   "outputs": [
    {
     "data": {
      "text/plain": [
       "V3\n",
       "-2.752041    77\n",
       " 0.488306    77\n",
       "-1.681836    62\n",
       "-0.681986    60\n",
       "-2.955934    53\n",
       "             ..\n",
       " 1.268803     1\n",
       " 0.048443     1\n",
       "-2.036381     1\n",
       " 0.377995     1\n",
       " 0.703337     1\n",
       "Name: count, Length: 275663, dtype: int64"
      ]
     },
     "execution_count": 9,
     "metadata": {},
     "output_type": "execute_result"
    }
   ],
   "source": [
    "df['V3'].value_counts()"
   ]
  },
  {
   "cell_type": "code",
   "execution_count": 10,
   "id": "8482f5d3",
   "metadata": {},
   "outputs": [
    {
     "data": {
      "text/plain": [
       "V4\n",
       "-0.842316    77\n",
       " 0.635322    77\n",
       " 0.454212    62\n",
       "-1.904603    60\n",
       "-0.578356    53\n",
       "             ..\n",
       "-1.370707     1\n",
       "-0.811787     1\n",
       "-2.079869     1\n",
       "-0.470940     1\n",
       "-0.506271     1\n",
       "Name: count, Length: 275663, dtype: int64"
      ]
     },
     "execution_count": 10,
     "metadata": {},
     "output_type": "execute_result"
    }
   ],
   "source": [
    "df['V4'].value_counts()"
   ]
  },
  {
   "cell_type": "code",
   "execution_count": 11,
   "id": "be91c11c",
   "metadata": {},
   "outputs": [
    {
     "data": {
      "text/plain": [
       "V5\n",
       " 2.463072    77\n",
       "-0.562777    77\n",
       " 0.298310    62\n",
       " 1.326623    60\n",
       " 2.609358    53\n",
       "             ..\n",
       "-0.851003     1\n",
       "-0.451758     1\n",
       " 1.525662     1\n",
       "-0.873216     1\n",
       "-0.012546     1\n",
       "Name: count, Length: 275663, dtype: int64"
      ]
     },
     "execution_count": 11,
     "metadata": {},
     "output_type": "execute_result"
    }
   ],
   "source": [
    "df['V5'].value_counts()"
   ]
  },
  {
   "cell_type": "code",
   "execution_count": 12,
   "id": "573cfb18",
   "metadata": {},
   "outputs": [
    {
     "data": {
      "text/plain": [
       "V6\n",
       " 3.173856    77\n",
       "-1.011073    77\n",
       "-0.953526    62\n",
       " 3.436312    60\n",
       " 3.142642    53\n",
       "             ..\n",
       "-1.347555     1\n",
       "-0.068686     1\n",
       " 3.241464     1\n",
       "-0.856746     1\n",
       "-0.649617     1\n",
       "Name: count, Length: 275663, dtype: int64"
      ]
     },
     "execution_count": 12,
     "metadata": {},
     "output_type": "execute_result"
    }
   ],
   "source": [
    "df['V6'].value_counts()"
   ]
  },
  {
   "cell_type": "code",
   "execution_count": 13,
   "id": "8f87962d",
   "metadata": {},
   "outputs": [
    {
     "data": {
      "text/plain": [
       "V7\n",
       "-0.432126    77\n",
       " 0.014953    77\n",
       " 0.152003    62\n",
       "-1.145127    60\n",
       "-0.416883    53\n",
       "             ..\n",
       "-0.011270     1\n",
       "-0.452685     1\n",
       "-1.353133     1\n",
       "-0.365785     1\n",
       " 1.577006     1\n",
       "Name: count, Length: 275663, dtype: int64"
      ]
     },
     "execution_count": 13,
     "metadata": {},
     "output_type": "execute_result"
    }
   ],
   "source": [
    "df['V7'].value_counts()"
   ]
  },
  {
   "cell_type": "code",
   "execution_count": 14,
   "id": "51513b09",
   "metadata": {},
   "outputs": [
    {
     "data": {
      "text/plain": [
       "V8\n",
       " 0.727706    77\n",
       "-0.160211    77\n",
       "-0.207071    62\n",
       " 0.959147    60\n",
       " 0.784393    53\n",
       "             ..\n",
       " 0.268686     1\n",
       "-0.105220     1\n",
       "-1.274966     1\n",
       "-0.288389     1\n",
       "-0.414650     1\n",
       "Name: count, Length: 275663, dtype: int64"
      ]
     },
     "execution_count": 14,
     "metadata": {},
     "output_type": "execute_result"
    }
   ],
   "source": [
    "df['V8'].value_counts()"
   ]
  },
  {
   "cell_type": "code",
   "execution_count": 15,
   "id": "e20ec730",
   "metadata": {},
   "outputs": [
    {
     "data": {
      "text/plain": [
       "V9\n",
       " 0.608606    77\n",
       " 0.170362    77\n",
       " 0.587335    62\n",
       " 1.671302    60\n",
       " 0.359902    53\n",
       "             ..\n",
       "-1.221562     1\n",
       "-0.934028     1\n",
       "-2.172713     1\n",
       "-0.724708     1\n",
       " 0.486180     1\n",
       "Name: count, Length: 275663, dtype: int64"
      ]
     },
     "execution_count": 15,
     "metadata": {},
     "output_type": "execute_result"
    }
   ],
   "source": [
    "df['V9'].value_counts()"
   ]
  },
  {
   "cell_type": "code",
   "execution_count": 16,
   "id": "5084a890",
   "metadata": {},
   "outputs": [
    {
     "data": {
      "text/plain": [
       "V10\n",
       "-0.075186    77\n",
       "-0.044575    77\n",
       "-0.362047    62\n",
       "-1.022946    60\n",
       "-0.351075    53\n",
       "             ..\n",
       "-0.200599     1\n",
       " 0.593751     1\n",
       "-0.730603     1\n",
       " 0.471586     1\n",
       "-0.915427     1\n",
       "Name: count, Length: 275663, dtype: int64"
      ]
     },
     "execution_count": 16,
     "metadata": {},
     "output_type": "execute_result"
    }
   ],
   "source": [
    "df['V10'].value_counts()"
   ]
  },
  {
   "cell_type": "code",
   "execution_count": 17,
   "id": "3b907427",
   "metadata": {},
   "outputs": [
    {
     "data": {
      "text/plain": [
       "V11\n",
       " 0.063504    77\n",
       "-0.356749    77\n",
       "-0.589598    62\n",
       "-0.191423    60\n",
       " 0.329651    53\n",
       "             ..\n",
       "-0.423192     1\n",
       "-0.851539     1\n",
       "-0.690848     1\n",
       "-0.377664     1\n",
       "-1.040458     1\n",
       "Name: count, Length: 275663, dtype: int64"
      ]
     },
     "execution_count": 17,
     "metadata": {},
     "output_type": "execute_result"
    }
   ],
   "source": [
    "df['V11'].value_counts()"
   ]
  },
  {
   "cell_type": "code",
   "execution_count": 18,
   "id": "58664138",
   "metadata": {},
   "outputs": [
    {
     "data": {
      "text/plain": [
       "V12\n",
       " 0.350564    77\n",
       "-0.073460    77\n",
       "-0.174712    62\n",
       " 0.631027    60\n",
       " 0.183508    53\n",
       "             ..\n",
       " 0.061307     1\n",
       " 0.218446     1\n",
       " 0.072164     1\n",
       " 0.376149     1\n",
       "-0.031513     1\n",
       "Name: count, Length: 275663, dtype: int64"
      ]
     },
     "execution_count": 18,
     "metadata": {},
     "output_type": "execute_result"
    }
   ],
   "source": [
    "df['V12'].value_counts()"
   ]
  },
  {
   "cell_type": "code",
   "execution_count": 19,
   "id": "bbdac146",
   "metadata": {},
   "outputs": [
    {
     "data": {
      "text/plain": [
       "V13\n",
       "-0.141238    77\n",
       "-0.517760    77\n",
       "-0.621127    62\n",
       " 0.031907    60\n",
       "-0.272919    53\n",
       "             ..\n",
       " 0.516670     1\n",
       " 1.486041     1\n",
       " 0.213507     1\n",
       " 1.405538     1\n",
       "-0.188093     1\n",
       "Name: count, Length: 275663, dtype: int64"
      ]
     },
     "execution_count": 19,
     "metadata": {},
     "output_type": "execute_result"
    }
   ],
   "source": [
    "df['V13'].value_counts()"
   ]
  },
  {
   "cell_type": "code",
   "execution_count": 20,
   "id": "c33ee1f7",
   "metadata": {},
   "outputs": [
    {
     "data": {
      "text/plain": [
       "V14\n",
       " 0.690972    77\n",
       " 0.406969    77\n",
       "-0.703513    62\n",
       "-0.031425    60\n",
       "-0.597437    53\n",
       "             ..\n",
       "-0.354326     1\n",
       "-0.152573     1\n",
       " 1.229195     1\n",
       "-0.690761     1\n",
       "-0.084316     1\n",
       "Name: count, Length: 275663, dtype: int64"
      ]
     },
     "execution_count": 20,
     "metadata": {},
     "output_type": "execute_result"
    }
   ],
   "source": [
    "df['V14'].value_counts()"
   ]
  },
  {
   "cell_type": "code",
   "execution_count": 21,
   "id": "9ff9da8b",
   "metadata": {},
   "outputs": [
    {
     "data": {
      "text/plain": [
       "V15\n",
       " 1.275257    77\n",
       " 1.124147    77\n",
       " 0.271957    62\n",
       " 1.446627    60\n",
       " 0.583897    53\n",
       "             ..\n",
       "-1.390669     1\n",
       " 1.112659     1\n",
       " 0.369308     1\n",
       "-0.720932     1\n",
       " 0.041333     1\n",
       "Name: count, Length: 275663, dtype: int64"
      ]
     },
     "execution_count": 21,
     "metadata": {},
     "output_type": "execute_result"
    }
   ],
   "source": [
    "df['V15'].value_counts()"
   ]
  },
  {
   "cell_type": "code",
   "execution_count": 22,
   "id": "76753c42",
   "metadata": {},
   "outputs": [
    {
     "data": {
      "text/plain": [
       "V16\n",
       "-0.371962    77\n",
       " 0.342470    77\n",
       " 0.318688    62\n",
       "-0.121820    60\n",
       " 0.178676    53\n",
       "             ..\n",
       " 0.552788     1\n",
       "-1.311940     1\n",
       "-0.266894     1\n",
       " 0.404778     1\n",
       "-0.302620     1\n",
       "Name: count, Length: 275663, dtype: int64"
      ]
     },
     "execution_count": 22,
     "metadata": {},
     "output_type": "execute_result"
    }
   ],
   "source": [
    "df['V16'].value_counts()"
   ]
  },
  {
   "cell_type": "code",
   "execution_count": 23,
   "id": "f53c1c4a",
   "metadata": {},
   "outputs": [
    {
     "data": {
      "text/plain": [
       "V17\n",
       "-0.601957    77\n",
       "-0.374656    77\n",
       " 0.549365    62\n",
       "-0.651405    60\n",
       " 0.473898    53\n",
       "             ..\n",
       " 0.779132     1\n",
       "-0.137672     1\n",
       "-0.278933     1\n",
       " 0.637774     1\n",
       "-0.660377     1\n",
       "Name: count, Length: 275663, dtype: int64"
      ]
     },
     "execution_count": 23,
     "metadata": {},
     "output_type": "execute_result"
    }
   ],
   "source": [
    "df['V17'].value_counts()"
   ]
  },
  {
   "cell_type": "code",
   "execution_count": 24,
   "id": "ff3c0ad8",
   "metadata": {},
   "outputs": [
    {
     "data": {
      "text/plain": [
       "V18\n",
       "-0.052640    77\n",
       "-0.438992    77\n",
       "-0.257786    62\n",
       " 0.617970    60\n",
       "-0.498850    53\n",
       "             ..\n",
       "-1.876941     1\n",
       " 0.577119     1\n",
       " 0.970240     1\n",
       "-1.925475     1\n",
       " 0.167430     1\n",
       "Name: count, Length: 275663, dtype: int64"
      ]
     },
     "execution_count": 24,
     "metadata": {},
     "output_type": "execute_result"
    }
   ],
   "source": [
    "df['V18'].value_counts()"
   ]
  },
  {
   "cell_type": "code",
   "execution_count": 25,
   "id": "cd790d89",
   "metadata": {},
   "outputs": [
    {
     "data": {
      "text/plain": [
       "V19\n",
       "-0.330590    77\n",
       "-0.116091    77\n",
       " 0.016256    62\n",
       " 0.927600    60\n",
       "-0.140099    53\n",
       "             ..\n",
       " 0.128609     1\n",
       "-0.815608     1\n",
       "-0.623245     1\n",
       " 0.931563     1\n",
       "-0.256117     1\n",
       "Name: count, Length: 275663, dtype: int64"
      ]
     },
     "execution_count": 25,
     "metadata": {},
     "output_type": "execute_result"
    }
   ],
   "source": [
    "df['V19'].value_counts()"
   ]
  },
  {
   "cell_type": "code",
   "execution_count": 26,
   "id": "e33c0d9c",
   "metadata": {},
   "outputs": [
    {
     "data": {
      "text/plain": [
       "V20\n",
       "-0.180370    77\n",
       "-0.132080    77\n",
       "-0.187421    62\n",
       " 0.005757    60\n",
       "-0.120714    53\n",
       "             ..\n",
       " 0.119238     1\n",
       "-0.377823     1\n",
       "-0.729419     1\n",
       " 0.116184     1\n",
       " 0.382948     1\n",
       "Name: count, Length: 275663, dtype: int64"
      ]
     },
     "execution_count": 26,
     "metadata": {},
     "output_type": "execute_result"
    }
   ],
   "source": [
    "df['V20'].value_counts()"
   ]
  },
  {
   "cell_type": "code",
   "execution_count": 27,
   "id": "4109a12d",
   "metadata": {},
   "outputs": [
    {
     "data": {
      "text/plain": [
       "V21\n",
       " 0.269765    77\n",
       "-0.262581    77\n",
       "-0.361158    62\n",
       "-0.064208    60\n",
       "-0.352334    53\n",
       "             ..\n",
       " 0.210512     1\n",
       "-0.458449     1\n",
       "-2.217422     1\n",
       " 0.063577     1\n",
       " 0.261057     1\n",
       "Name: count, Length: 275663, dtype: int64"
      ]
     },
     "execution_count": 27,
     "metadata": {},
     "output_type": "execute_result"
    }
   ],
   "source": [
    "df['V21'].value_counts()"
   ]
  },
  {
   "cell_type": "code",
   "execution_count": 28,
   "id": "d02d0385",
   "metadata": {},
   "outputs": [
    {
     "data": {
      "text/plain": [
       "V22\n",
       " 0.844627    77\n",
       "-0.816264    77\n",
       "-0.984262    62\n",
       "-0.080587    60\n",
       "-0.996937    53\n",
       "             ..\n",
       " 0.600703     1\n",
       "-0.791131     1\n",
       "-1.673874     1\n",
       " 0.377741     1\n",
       " 0.643078     1\n",
       "Name: count, Length: 275663, dtype: int64"
      ]
     },
     "execution_count": 28,
     "metadata": {},
     "output_type": "execute_result"
    }
   ],
   "source": [
    "df['V22'].value_counts()"
   ]
  },
  {
   "cell_type": "code",
   "execution_count": 29,
   "id": "0ada76db",
   "metadata": {},
   "outputs": [
    {
     "data": {
      "text/plain": [
       "V23\n",
       " 0.020675    77\n",
       " 0.140304    77\n",
       " 0.354198    62\n",
       "-0.072991    60\n",
       " 0.363485    53\n",
       "             ..\n",
       "-0.119788     1\n",
       " 0.011987     1\n",
       " 0.635783     1\n",
       "-0.114340     1\n",
       " 0.376777     1\n",
       "Name: count, Length: 275663, dtype: int64"
      ]
     },
     "execution_count": 29,
     "metadata": {},
     "output_type": "execute_result"
    }
   ],
   "source": [
    "df['V23'].value_counts()"
   ]
  },
  {
   "cell_type": "code",
   "execution_count": 30,
   "id": "d942ab6b",
   "metadata": {},
   "outputs": [
    {
     "data": {
      "text/plain": [
       "V24\n",
       " 0.726212    77\n",
       " 0.357827    77\n",
       " 0.620709    62\n",
       " 1.018136    60\n",
       " 0.604827    53\n",
       "             ..\n",
       " 0.963772     1\n",
       "-0.722804     1\n",
       " 1.018479     1\n",
       " 0.473863     1\n",
       " 0.008797     1\n",
       "Name: count, Length: 275663, dtype: int64"
      ]
     },
     "execution_count": 30,
     "metadata": {},
     "output_type": "execute_result"
    }
   ],
   "source": [
    "df['V24'].value_counts()"
   ]
  },
  {
   "cell_type": "code",
   "execution_count": 31,
   "id": "e0d4d8e1",
   "metadata": {},
   "outputs": [
    {
     "data": {
      "text/plain": [
       "V25\n",
       " 0.366624    77\n",
       " 0.186423    77\n",
       "-0.297138    62\n",
       " 0.663575    60\n",
       "-0.264560    53\n",
       "             ..\n",
       " 0.131855     1\n",
       " 0.209786     1\n",
       "-0.173771     1\n",
       " 0.737915     1\n",
       "-0.473649     1\n",
       "Name: count, Length: 275663, dtype: int64"
      ]
     },
     "execution_count": 31,
     "metadata": {},
     "output_type": "execute_result"
    }
   ],
   "source": [
    "df['V25'].value_counts()"
   ]
  },
  {
   "cell_type": "code",
   "execution_count": 32,
   "id": "2834e54d",
   "metadata": {},
   "outputs": [
    {
     "data": {
      "text/plain": [
       "V26\n",
       "-0.398828    77\n",
       " 0.096544    77\n",
       " 0.166736    62\n",
       "-0.671323    60\n",
       " 0.219671    53\n",
       "             ..\n",
       "-0.356116     1\n",
       " 1.025875     1\n",
       " 0.504076     1\n",
       "-0.149702     1\n",
       "-0.818267     1\n",
       "Name: count, Length: 275663, dtype: int64"
      ]
     },
     "execution_count": 32,
     "metadata": {},
     "output_type": "execute_result"
    }
   ],
   "source": [
    "df['V26'].value_counts()"
   ]
  },
  {
   "cell_type": "code",
   "execution_count": 33,
   "id": "7fcc986e",
   "metadata": {},
   "outputs": [
    {
     "data": {
      "text/plain": [
       "V27\n",
       " 0.027735    77\n",
       "-0.035866    77\n",
       "-0.068299    62\n",
       " 0.096801    60\n",
       "-0.039209    53\n",
       "             ..\n",
       " 0.228123     1\n",
       "-0.036452     1\n",
       " 0.204020     1\n",
       " 0.016452     1\n",
       "-0.002415     1\n",
       "Name: count, Length: 275663, dtype: int64"
      ]
     },
     "execution_count": 33,
     "metadata": {},
     "output_type": "execute_result"
    }
   ],
   "source": [
    "df['V27'].value_counts()"
   ]
  },
  {
   "cell_type": "code",
   "execution_count": 34,
   "id": "ff08e120",
   "metadata": {},
   "outputs": [
    {
     "data": {
      "text/plain": [
       "V28\n",
       "-0.060282    77\n",
       " 0.018495    77\n",
       "-0.029585    62\n",
       " 0.028697    60\n",
       "-0.042787    53\n",
       "             ..\n",
       " 0.096138     1\n",
       " 0.003206     1\n",
       "-1.001380     1\n",
       " 0.010186     1\n",
       " 0.013649     1\n",
       "Name: count, Length: 275663, dtype: int64"
      ]
     },
     "execution_count": 34,
     "metadata": {},
     "output_type": "execute_result"
    }
   ],
   "source": [
    "df['V28'].value_counts()"
   ]
  },
  {
   "cell_type": "code",
   "execution_count": 35,
   "id": "cb1ae68f",
   "metadata": {},
   "outputs": [
    {
     "data": {
      "text/plain": [
       "Amount\n",
       "1.00       13688\n",
       "1.98        6044\n",
       "0.89        4872\n",
       "9.99        4747\n",
       "15.00       3280\n",
       "           ...  \n",
       "62.09          1\n",
       "552.05         1\n",
       "1467.75        1\n",
       "196.68         1\n",
       "95.63          1\n",
       "Name: count, Length: 32767, dtype: int64"
      ]
     },
     "execution_count": 35,
     "metadata": {},
     "output_type": "execute_result"
    }
   ],
   "source": [
    "df['Amount'].value_counts()"
   ]
  },
  {
   "cell_type": "code",
   "execution_count": 36,
   "id": "bf2729b9",
   "metadata": {},
   "outputs": [
    {
     "data": {
      "text/plain": [
       "Class\n",
       "0    284315\n",
       "1       492\n",
       "Name: count, dtype: int64"
      ]
     },
     "execution_count": 36,
     "metadata": {},
     "output_type": "execute_result"
    }
   ],
   "source": [
    "df['Class'].value_counts()"
   ]
  },
  {
   "cell_type": "code",
   "execution_count": 37,
   "id": "1b607b34",
   "metadata": {},
   "outputs": [
    {
     "data": {
      "text/plain": [
       "array([0.00000e+00, 1.00000e+00, 2.00000e+00, ..., 1.72787e+05,\n",
       "       1.72788e+05, 1.72792e+05])"
      ]
     },
     "execution_count": 37,
     "metadata": {},
     "output_type": "execute_result"
    }
   ],
   "source": [
    "df['Time'].unique()"
   ]
  },
  {
   "cell_type": "code",
   "execution_count": 38,
   "id": "6ada4115",
   "metadata": {},
   "outputs": [
    {
     "data": {
      "text/plain": [
       "array([-1.35980713,  1.19185711, -1.35835406, ...,  1.91956501,\n",
       "       -0.24044005, -0.53341252])"
      ]
     },
     "execution_count": 38,
     "metadata": {},
     "output_type": "execute_result"
    }
   ],
   "source": [
    "df['V1'].unique()"
   ]
  },
  {
   "cell_type": "code",
   "execution_count": 39,
   "id": "5ef23ed9",
   "metadata": {},
   "outputs": [
    {
     "data": {
      "text/plain": [
       "array([-0.07278117,  0.26615071, -1.34016307, ..., -0.30125385,\n",
       "        0.53048251, -0.18973334])"
      ]
     },
     "execution_count": 39,
     "metadata": {},
     "output_type": "execute_result"
    }
   ],
   "source": [
    "df['V2'].unique()"
   ]
  },
  {
   "cell_type": "code",
   "execution_count": 40,
   "id": "767fa0a4",
   "metadata": {},
   "outputs": [
    {
     "data": {
      "text/plain": [
       "array([ 2.53634674,  0.16648011,  1.77320934, ..., -3.24963981,\n",
       "        0.70251023,  0.70333737])"
      ]
     },
     "execution_count": 40,
     "metadata": {},
     "output_type": "execute_result"
    }
   ],
   "source": [
    "df['V3'].unique()"
   ]
  },
  {
   "cell_type": "code",
   "execution_count": 41,
   "id": "f14aeb4a",
   "metadata": {},
   "outputs": [
    {
     "data": {
      "text/plain": [
       "array([ 1.37815522,  0.44815408,  0.37977959, ..., -0.55782812,\n",
       "        0.68979917, -0.50627124])"
      ]
     },
     "execution_count": 41,
     "metadata": {},
     "output_type": "execute_result"
    }
   ],
   "source": [
    "df['V4'].unique()"
   ]
  },
  {
   "cell_type": "code",
   "execution_count": 42,
   "id": "6bd5d11d",
   "metadata": {},
   "outputs": [
    {
     "data": {
      "text/plain": [
       "array([-0.33832077,  0.06001765, -0.50319813, ...,  2.63051512,\n",
       "       -0.37796113, -0.01254568])"
      ]
     },
     "execution_count": 42,
     "metadata": {},
     "output_type": "execute_result"
    }
   ],
   "source": [
    "df['V5'].unique()"
   ]
  },
  {
   "cell_type": "code",
   "execution_count": 43,
   "id": "9240f18a",
   "metadata": {},
   "outputs": [
    {
     "data": {
      "text/plain": [
       "array([ 0.46238778, -0.08236081,  1.80049938, ...,  3.0312601 ,\n",
       "        0.62370772, -0.64961669])"
      ]
     },
     "execution_count": 43,
     "metadata": {},
     "output_type": "execute_result"
    }
   ],
   "source": [
    "df['V6'].unique()"
   ]
  },
  {
   "cell_type": "code",
   "execution_count": 44,
   "id": "c8ca4505",
   "metadata": {},
   "outputs": [
    {
     "data": {
      "text/plain": [
       "array([ 0.23959855, -0.07880298,  0.79146096, ..., -0.29682653,\n",
       "       -0.68617999,  1.57700625])"
      ]
     },
     "execution_count": 44,
     "metadata": {},
     "output_type": "execute_result"
    }
   ],
   "source": [
    "df['V7'].unique()"
   ]
  },
  {
   "cell_type": "code",
   "execution_count": 45,
   "id": "59b28b26",
   "metadata": {},
   "outputs": [
    {
     "data": {
      "text/plain": [
       "array([ 0.0986979 ,  0.08510165,  0.24767579, ...,  0.70841718,\n",
       "        0.67914546, -0.41465041])"
      ]
     },
     "execution_count": 45,
     "metadata": {},
     "output_type": "execute_result"
    }
   ],
   "source": [
    "df['V8'].unique()"
   ]
  },
  {
   "cell_type": "code",
   "execution_count": 46,
   "id": "cf42c9fe",
   "metadata": {},
   "outputs": [
    {
     "data": {
      "text/plain": [
       "array([ 0.36378697, -0.25542513, -1.51465432, ...,  0.43245405,\n",
       "        0.39208671,  0.48617951])"
      ]
     },
     "execution_count": 46,
     "metadata": {},
     "output_type": "execute_result"
    }
   ],
   "source": [
    "df['V9'].unique()"
   ]
  },
  {
   "cell_type": "code",
   "execution_count": 47,
   "id": "046a241d",
   "metadata": {},
   "outputs": [
    {
     "data": {
      "text/plain": [
       "array([ 0.09079417, -0.16697441,  0.20764287, ..., -0.48478176,\n",
       "       -0.39912565, -0.91542665])"
      ]
     },
     "execution_count": 47,
     "metadata": {},
     "output_type": "execute_result"
    }
   ],
   "source": [
    "df['V10'].unique()"
   ]
  },
  {
   "cell_type": "code",
   "execution_count": 48,
   "id": "4e138d79",
   "metadata": {},
   "outputs": [
    {
     "data": {
      "text/plain": [
       "array([-0.55159953,  1.61272666,  0.62450146, ...,  0.41161374,\n",
       "       -1.93384882, -1.04045834])"
      ]
     },
     "execution_count": 48,
     "metadata": {},
     "output_type": "execute_result"
    }
   ],
   "source": [
    "df['V11'].unique()"
   ]
  },
  {
   "cell_type": "code",
   "execution_count": 49,
   "id": "483e386d",
   "metadata": {},
   "outputs": [
    {
     "data": {
      "text/plain": [
       "array([-0.61780086,  1.06523531,  0.06608369, ...,  0.06311886,\n",
       "       -0.96288614, -0.03151305])"
      ]
     },
     "execution_count": 49,
     "metadata": {},
     "output_type": "execute_result"
    }
   ],
   "source": [
    "df['V12'].unique()"
   ]
  },
  {
   "cell_type": "code",
   "execution_count": 50,
   "id": "3bbf8480",
   "metadata": {},
   "outputs": [
    {
     "data": {
      "text/plain": [
       "array([-0.99138985,  0.48909502,  0.71729273, ..., -0.18369869,\n",
       "       -1.04208166, -0.1880929 ])"
      ]
     },
     "execution_count": 50,
     "metadata": {},
     "output_type": "execute_result"
    }
   ],
   "source": [
    "df['V13'].unique()"
   ]
  },
  {
   "cell_type": "code",
   "execution_count": 51,
   "id": "f55ce1db",
   "metadata": {},
   "outputs": [
    {
     "data": {
      "text/plain": [
       "array([-0.31116935, -0.1437723 , -0.16594592, ..., -0.51060184,\n",
       "        0.44962444, -0.08431647])"
      ]
     },
     "execution_count": 51,
     "metadata": {},
     "output_type": "execute_result"
    }
   ],
   "source": [
    "df['V14'].unique()"
   ]
  },
  {
   "cell_type": "code",
   "execution_count": 52,
   "id": "632c1098",
   "metadata": {},
   "outputs": [
    {
     "data": {
      "text/plain": [
       "array([1.46817697, 0.63555809, 2.34586495, ..., 1.32928351, 1.96256312,\n",
       "       0.04133346])"
      ]
     },
     "execution_count": 52,
     "metadata": {},
     "output_type": "execute_result"
    }
   ],
   "source": [
    "df['V15'].unique()"
   ]
  },
  {
   "cell_type": "code",
   "execution_count": 53,
   "id": "37289be6",
   "metadata": {},
   "outputs": [
    {
     "data": {
      "text/plain": [
       "array([-0.47040053,  0.46391704, -2.89008319, ...,  0.14071598,\n",
       "       -0.60857713, -0.30262009])"
      ]
     },
     "execution_count": 53,
     "metadata": {},
     "output_type": "execute_result"
    }
   ],
   "source": [
    "df['V16'].unique()"
   ]
  },
  {
   "cell_type": "code",
   "execution_count": 54,
   "id": "c3f46282",
   "metadata": {},
   "outputs": [
    {
     "data": {
      "text/plain": [
       "array([ 0.20797124, -0.11480466,  1.10996938, ...,  0.31350179,\n",
       "        0.50992846, -0.66037665])"
      ]
     },
     "execution_count": 54,
     "metadata": {},
     "output_type": "execute_result"
    }
   ],
   "source": [
    "df['V17'].unique()"
   ]
  },
  {
   "cell_type": "code",
   "execution_count": 55,
   "id": "e31a2826",
   "metadata": {},
   "outputs": [
    {
     "data": {
      "text/plain": [
       "array([ 0.02579058, -0.18336127, -0.12135931, ...,  0.39565248,\n",
       "        1.11398059,  0.16742993])"
      ]
     },
     "execution_count": 55,
     "metadata": {},
     "output_type": "execute_result"
    }
   ],
   "source": [
    "df['V18'].unique()"
   ]
  },
  {
   "cell_type": "code",
   "execution_count": 56,
   "id": "368d1c0c",
   "metadata": {},
   "outputs": [
    {
     "data": {
      "text/plain": [
       "array([ 0.40399296, -0.14578304, -2.2618571 , ..., -0.57725184,\n",
       "        2.89784877, -0.25611687])"
      ]
     },
     "execution_count": 56,
     "metadata": {},
     "output_type": "execute_result"
    }
   ],
   "source": [
    "df['V19'].unique()"
   ]
  },
  {
   "cell_type": "code",
   "execution_count": 57,
   "id": "1d3a720d",
   "metadata": {},
   "outputs": [
    {
     "data": {
      "text/plain": [
       "array([ 0.2514121 , -0.06908314,  0.52497973, ...,  0.00139597,\n",
       "        0.12743352,  0.3829481 ])"
      ]
     },
     "execution_count": 57,
     "metadata": {},
     "output_type": "execute_result"
    }
   ],
   "source": [
    "df['V20'].unique()"
   ]
  },
  {
   "cell_type": "code",
   "execution_count": 58,
   "id": "6e58caa7",
   "metadata": {},
   "outputs": [
    {
     "data": {
      "text/plain": [
       "array([-0.01830678, -0.22577525,  0.24799815, ...,  0.23204504,\n",
       "        0.26524492,  0.26105733])"
      ]
     },
     "execution_count": 58,
     "metadata": {},
     "output_type": "execute_result"
    }
   ],
   "source": [
    "df['V21'].unique()"
   ]
  },
  {
   "cell_type": "code",
   "execution_count": 59,
   "id": "cc6cd776",
   "metadata": {},
   "outputs": [
    {
     "data": {
      "text/plain": [
       "array([ 0.27783758, -0.63867195,  0.7716794 , ...,  0.57822901,\n",
       "        0.80004874,  0.64307844])"
      ]
     },
     "execution_count": 59,
     "metadata": {},
     "output_type": "execute_result"
    }
   ],
   "source": [
    "df['V22'].unique()"
   ]
  },
  {
   "cell_type": "code",
   "execution_count": 60,
   "id": "60060688",
   "metadata": {},
   "outputs": [
    {
     "data": {
      "text/plain": [
       "array([-0.11047391,  0.10128802,  0.90941226, ..., -0.03750086,\n",
       "       -0.16329794,  0.37677701])"
      ]
     },
     "execution_count": 60,
     "metadata": {},
     "output_type": "execute_result"
    }
   ],
   "source": [
    "df['V23'].unique()"
   ]
  },
  {
   "cell_type": "code",
   "execution_count": 61,
   "id": "d7017d22",
   "metadata": {},
   "outputs": [
    {
     "data": {
      "text/plain": [
       "array([ 0.06692807, -0.33984648, -0.68928096, ...,  0.64013388,\n",
       "        0.12320524,  0.00879738])"
      ]
     },
     "execution_count": 61,
     "metadata": {},
     "output_type": "execute_result"
    }
   ],
   "source": [
    "df['V24'].unique()"
   ]
  },
  {
   "cell_type": "code",
   "execution_count": 62,
   "id": "11cba08a",
   "metadata": {},
   "outputs": [
    {
     "data": {
      "text/plain": [
       "array([ 0.12853936,  0.1671704 , -0.32764183, ...,  0.26574545,\n",
       "       -0.56915886, -0.4736487 ])"
      ]
     },
     "execution_count": 62,
     "metadata": {},
     "output_type": "execute_result"
    }
   ],
   "source": [
    "df['V25'].unique()"
   ]
  },
  {
   "cell_type": "code",
   "execution_count": 63,
   "id": "6c36521e",
   "metadata": {},
   "outputs": [
    {
     "data": {
      "text/plain": [
       "array([-0.18911484,  0.12589453, -0.13909657, ..., -0.0873706 ,\n",
       "        0.54666846, -0.81826712])"
      ]
     },
     "execution_count": 63,
     "metadata": {},
     "output_type": "execute_result"
    }
   ],
   "source": [
    "df['V26'].unique()"
   ]
  },
  {
   "cell_type": "code",
   "execution_count": 64,
   "id": "f9d850c9",
   "metadata": {},
   "outputs": [
    {
     "data": {
      "text/plain": [
       "array([ 0.13355838, -0.0089831 , -0.05535279, ...,  0.00445477,\n",
       "        0.10882073, -0.00241531])"
      ]
     },
     "execution_count": 64,
     "metadata": {},
     "output_type": "execute_result"
    }
   ],
   "source": [
    "df['V27'].unique()"
   ]
  },
  {
   "cell_type": "code",
   "execution_count": 65,
   "id": "ed7c204b",
   "metadata": {},
   "outputs": [
    {
     "data": {
      "text/plain": [
       "array([-0.02105305,  0.01472417, -0.05975184, ..., -0.02656083,\n",
       "        0.10453282,  0.01364891])"
      ]
     },
     "execution_count": 65,
     "metadata": {},
     "output_type": "execute_result"
    }
   ],
   "source": [
    "df['V28'].unique()"
   ]
  },
  {
   "cell_type": "code",
   "execution_count": 66,
   "id": "3907d951",
   "metadata": {},
   "outputs": [
    {
     "data": {
      "text/plain": [
       "array([149.62,   2.69, 378.66, ..., 381.05, 337.54,  95.63])"
      ]
     },
     "execution_count": 66,
     "metadata": {},
     "output_type": "execute_result"
    }
   ],
   "source": [
    "df['Amount'].unique()"
   ]
  },
  {
   "cell_type": "code",
   "execution_count": 67,
   "id": "91b85284",
   "metadata": {},
   "outputs": [
    {
     "data": {
      "text/plain": [
       "array([0, 1], dtype=int64)"
      ]
     },
     "execution_count": 67,
     "metadata": {},
     "output_type": "execute_result"
    }
   ],
   "source": [
    "df['Class'].unique()"
   ]
  },
  {
   "cell_type": "code",
   "execution_count": 68,
   "id": "eba928ed",
   "metadata": {},
   "outputs": [],
   "source": [
    "continous=['Time', 'V1', 'V2', 'V3', 'V4', 'V5', 'V6', 'V7', 'V8', 'V9', 'V10',\n",
    "       'V11', 'V12', 'V13', 'V14', 'V15', 'V16', 'V17', 'V18', 'V19', 'V20',\n",
    "       'V21', 'V22', 'V23', 'V24', 'V25', 'V26', 'V27', 'V28', 'Amount']\n",
    "descrete_count=['Class']"
   ]
  },
  {
   "cell_type": "markdown",
   "id": "a82d44e0",
   "metadata": {},
   "source": [
    "## Exploratory Data Analysis(EDA)\n",
    "* For continous variable"
   ]
  },
  {
   "cell_type": "code",
   "execution_count": 69,
   "id": "d8799585",
   "metadata": {},
   "outputs": [
    {
     "data": {
      "text/html": [
       "<div>\n",
       "<style scoped>\n",
       "    .dataframe tbody tr th:only-of-type {\n",
       "        vertical-align: middle;\n",
       "    }\n",
       "\n",
       "    .dataframe tbody tr th {\n",
       "        vertical-align: top;\n",
       "    }\n",
       "\n",
       "    .dataframe thead th {\n",
       "        text-align: right;\n",
       "    }\n",
       "</style>\n",
       "<table border=\"1\" class=\"dataframe\">\n",
       "  <thead>\n",
       "    <tr style=\"text-align: right;\">\n",
       "      <th></th>\n",
       "      <th>Time</th>\n",
       "      <th>V1</th>\n",
       "      <th>V2</th>\n",
       "      <th>V3</th>\n",
       "      <th>V4</th>\n",
       "      <th>V5</th>\n",
       "      <th>V6</th>\n",
       "      <th>V7</th>\n",
       "      <th>V8</th>\n",
       "      <th>V9</th>\n",
       "      <th>...</th>\n",
       "      <th>V20</th>\n",
       "      <th>V21</th>\n",
       "      <th>V22</th>\n",
       "      <th>V23</th>\n",
       "      <th>V24</th>\n",
       "      <th>V25</th>\n",
       "      <th>V26</th>\n",
       "      <th>V27</th>\n",
       "      <th>V28</th>\n",
       "      <th>Amount</th>\n",
       "    </tr>\n",
       "  </thead>\n",
       "  <tbody>\n",
       "    <tr>\n",
       "      <th>count</th>\n",
       "      <td>284807.000000</td>\n",
       "      <td>2.848070e+05</td>\n",
       "      <td>2.848070e+05</td>\n",
       "      <td>2.848070e+05</td>\n",
       "      <td>2.848070e+05</td>\n",
       "      <td>2.848070e+05</td>\n",
       "      <td>2.848070e+05</td>\n",
       "      <td>2.848070e+05</td>\n",
       "      <td>2.848070e+05</td>\n",
       "      <td>2.848070e+05</td>\n",
       "      <td>...</td>\n",
       "      <td>2.848070e+05</td>\n",
       "      <td>2.848070e+05</td>\n",
       "      <td>2.848070e+05</td>\n",
       "      <td>2.848070e+05</td>\n",
       "      <td>2.848070e+05</td>\n",
       "      <td>2.848070e+05</td>\n",
       "      <td>2.848070e+05</td>\n",
       "      <td>2.848070e+05</td>\n",
       "      <td>2.848070e+05</td>\n",
       "      <td>284807.000000</td>\n",
       "    </tr>\n",
       "    <tr>\n",
       "      <th>mean</th>\n",
       "      <td>94813.859575</td>\n",
       "      <td>1.168375e-15</td>\n",
       "      <td>3.416908e-16</td>\n",
       "      <td>-1.379537e-15</td>\n",
       "      <td>2.074095e-15</td>\n",
       "      <td>9.604066e-16</td>\n",
       "      <td>1.487313e-15</td>\n",
       "      <td>-5.556467e-16</td>\n",
       "      <td>1.213481e-16</td>\n",
       "      <td>-2.406331e-15</td>\n",
       "      <td>...</td>\n",
       "      <td>6.406204e-16</td>\n",
       "      <td>1.654067e-16</td>\n",
       "      <td>-3.568593e-16</td>\n",
       "      <td>2.578648e-16</td>\n",
       "      <td>4.473266e-15</td>\n",
       "      <td>5.340915e-16</td>\n",
       "      <td>1.683437e-15</td>\n",
       "      <td>-3.660091e-16</td>\n",
       "      <td>-1.227390e-16</td>\n",
       "      <td>88.349619</td>\n",
       "    </tr>\n",
       "    <tr>\n",
       "      <th>std</th>\n",
       "      <td>47488.145955</td>\n",
       "      <td>1.958696e+00</td>\n",
       "      <td>1.651309e+00</td>\n",
       "      <td>1.516255e+00</td>\n",
       "      <td>1.415869e+00</td>\n",
       "      <td>1.380247e+00</td>\n",
       "      <td>1.332271e+00</td>\n",
       "      <td>1.237094e+00</td>\n",
       "      <td>1.194353e+00</td>\n",
       "      <td>1.098632e+00</td>\n",
       "      <td>...</td>\n",
       "      <td>7.709250e-01</td>\n",
       "      <td>7.345240e-01</td>\n",
       "      <td>7.257016e-01</td>\n",
       "      <td>6.244603e-01</td>\n",
       "      <td>6.056471e-01</td>\n",
       "      <td>5.212781e-01</td>\n",
       "      <td>4.822270e-01</td>\n",
       "      <td>4.036325e-01</td>\n",
       "      <td>3.300833e-01</td>\n",
       "      <td>250.120109</td>\n",
       "    </tr>\n",
       "    <tr>\n",
       "      <th>min</th>\n",
       "      <td>0.000000</td>\n",
       "      <td>-5.640751e+01</td>\n",
       "      <td>-7.271573e+01</td>\n",
       "      <td>-4.832559e+01</td>\n",
       "      <td>-5.683171e+00</td>\n",
       "      <td>-1.137433e+02</td>\n",
       "      <td>-2.616051e+01</td>\n",
       "      <td>-4.355724e+01</td>\n",
       "      <td>-7.321672e+01</td>\n",
       "      <td>-1.343407e+01</td>\n",
       "      <td>...</td>\n",
       "      <td>-5.449772e+01</td>\n",
       "      <td>-3.483038e+01</td>\n",
       "      <td>-1.093314e+01</td>\n",
       "      <td>-4.480774e+01</td>\n",
       "      <td>-2.836627e+00</td>\n",
       "      <td>-1.029540e+01</td>\n",
       "      <td>-2.604551e+00</td>\n",
       "      <td>-2.256568e+01</td>\n",
       "      <td>-1.543008e+01</td>\n",
       "      <td>0.000000</td>\n",
       "    </tr>\n",
       "    <tr>\n",
       "      <th>25%</th>\n",
       "      <td>54201.500000</td>\n",
       "      <td>-9.203734e-01</td>\n",
       "      <td>-5.985499e-01</td>\n",
       "      <td>-8.903648e-01</td>\n",
       "      <td>-8.486401e-01</td>\n",
       "      <td>-6.915971e-01</td>\n",
       "      <td>-7.682956e-01</td>\n",
       "      <td>-5.540759e-01</td>\n",
       "      <td>-2.086297e-01</td>\n",
       "      <td>-6.430976e-01</td>\n",
       "      <td>...</td>\n",
       "      <td>-2.117214e-01</td>\n",
       "      <td>-2.283949e-01</td>\n",
       "      <td>-5.423504e-01</td>\n",
       "      <td>-1.618463e-01</td>\n",
       "      <td>-3.545861e-01</td>\n",
       "      <td>-3.171451e-01</td>\n",
       "      <td>-3.269839e-01</td>\n",
       "      <td>-7.083953e-02</td>\n",
       "      <td>-5.295979e-02</td>\n",
       "      <td>5.600000</td>\n",
       "    </tr>\n",
       "    <tr>\n",
       "      <th>50%</th>\n",
       "      <td>84692.000000</td>\n",
       "      <td>1.810880e-02</td>\n",
       "      <td>6.548556e-02</td>\n",
       "      <td>1.798463e-01</td>\n",
       "      <td>-1.984653e-02</td>\n",
       "      <td>-5.433583e-02</td>\n",
       "      <td>-2.741871e-01</td>\n",
       "      <td>4.010308e-02</td>\n",
       "      <td>2.235804e-02</td>\n",
       "      <td>-5.142873e-02</td>\n",
       "      <td>...</td>\n",
       "      <td>-6.248109e-02</td>\n",
       "      <td>-2.945017e-02</td>\n",
       "      <td>6.781943e-03</td>\n",
       "      <td>-1.119293e-02</td>\n",
       "      <td>4.097606e-02</td>\n",
       "      <td>1.659350e-02</td>\n",
       "      <td>-5.213911e-02</td>\n",
       "      <td>1.342146e-03</td>\n",
       "      <td>1.124383e-02</td>\n",
       "      <td>22.000000</td>\n",
       "    </tr>\n",
       "    <tr>\n",
       "      <th>75%</th>\n",
       "      <td>139320.500000</td>\n",
       "      <td>1.315642e+00</td>\n",
       "      <td>8.037239e-01</td>\n",
       "      <td>1.027196e+00</td>\n",
       "      <td>7.433413e-01</td>\n",
       "      <td>6.119264e-01</td>\n",
       "      <td>3.985649e-01</td>\n",
       "      <td>5.704361e-01</td>\n",
       "      <td>3.273459e-01</td>\n",
       "      <td>5.971390e-01</td>\n",
       "      <td>...</td>\n",
       "      <td>1.330408e-01</td>\n",
       "      <td>1.863772e-01</td>\n",
       "      <td>5.285536e-01</td>\n",
       "      <td>1.476421e-01</td>\n",
       "      <td>4.395266e-01</td>\n",
       "      <td>3.507156e-01</td>\n",
       "      <td>2.409522e-01</td>\n",
       "      <td>9.104512e-02</td>\n",
       "      <td>7.827995e-02</td>\n",
       "      <td>77.165000</td>\n",
       "    </tr>\n",
       "    <tr>\n",
       "      <th>max</th>\n",
       "      <td>172792.000000</td>\n",
       "      <td>2.454930e+00</td>\n",
       "      <td>2.205773e+01</td>\n",
       "      <td>9.382558e+00</td>\n",
       "      <td>1.687534e+01</td>\n",
       "      <td>3.480167e+01</td>\n",
       "      <td>7.330163e+01</td>\n",
       "      <td>1.205895e+02</td>\n",
       "      <td>2.000721e+01</td>\n",
       "      <td>1.559499e+01</td>\n",
       "      <td>...</td>\n",
       "      <td>3.942090e+01</td>\n",
       "      <td>2.720284e+01</td>\n",
       "      <td>1.050309e+01</td>\n",
       "      <td>2.252841e+01</td>\n",
       "      <td>4.584549e+00</td>\n",
       "      <td>7.519589e+00</td>\n",
       "      <td>3.517346e+00</td>\n",
       "      <td>3.161220e+01</td>\n",
       "      <td>3.384781e+01</td>\n",
       "      <td>25691.160000</td>\n",
       "    </tr>\n",
       "  </tbody>\n",
       "</table>\n",
       "<p>8 rows × 30 columns</p>\n",
       "</div>"
      ],
      "text/plain": [
       "                Time            V1            V2            V3            V4  \\\n",
       "count  284807.000000  2.848070e+05  2.848070e+05  2.848070e+05  2.848070e+05   \n",
       "mean    94813.859575  1.168375e-15  3.416908e-16 -1.379537e-15  2.074095e-15   \n",
       "std     47488.145955  1.958696e+00  1.651309e+00  1.516255e+00  1.415869e+00   \n",
       "min         0.000000 -5.640751e+01 -7.271573e+01 -4.832559e+01 -5.683171e+00   \n",
       "25%     54201.500000 -9.203734e-01 -5.985499e-01 -8.903648e-01 -8.486401e-01   \n",
       "50%     84692.000000  1.810880e-02  6.548556e-02  1.798463e-01 -1.984653e-02   \n",
       "75%    139320.500000  1.315642e+00  8.037239e-01  1.027196e+00  7.433413e-01   \n",
       "max    172792.000000  2.454930e+00  2.205773e+01  9.382558e+00  1.687534e+01   \n",
       "\n",
       "                 V5            V6            V7            V8            V9  \\\n",
       "count  2.848070e+05  2.848070e+05  2.848070e+05  2.848070e+05  2.848070e+05   \n",
       "mean   9.604066e-16  1.487313e-15 -5.556467e-16  1.213481e-16 -2.406331e-15   \n",
       "std    1.380247e+00  1.332271e+00  1.237094e+00  1.194353e+00  1.098632e+00   \n",
       "min   -1.137433e+02 -2.616051e+01 -4.355724e+01 -7.321672e+01 -1.343407e+01   \n",
       "25%   -6.915971e-01 -7.682956e-01 -5.540759e-01 -2.086297e-01 -6.430976e-01   \n",
       "50%   -5.433583e-02 -2.741871e-01  4.010308e-02  2.235804e-02 -5.142873e-02   \n",
       "75%    6.119264e-01  3.985649e-01  5.704361e-01  3.273459e-01  5.971390e-01   \n",
       "max    3.480167e+01  7.330163e+01  1.205895e+02  2.000721e+01  1.559499e+01   \n",
       "\n",
       "       ...           V20           V21           V22           V23  \\\n",
       "count  ...  2.848070e+05  2.848070e+05  2.848070e+05  2.848070e+05   \n",
       "mean   ...  6.406204e-16  1.654067e-16 -3.568593e-16  2.578648e-16   \n",
       "std    ...  7.709250e-01  7.345240e-01  7.257016e-01  6.244603e-01   \n",
       "min    ... -5.449772e+01 -3.483038e+01 -1.093314e+01 -4.480774e+01   \n",
       "25%    ... -2.117214e-01 -2.283949e-01 -5.423504e-01 -1.618463e-01   \n",
       "50%    ... -6.248109e-02 -2.945017e-02  6.781943e-03 -1.119293e-02   \n",
       "75%    ...  1.330408e-01  1.863772e-01  5.285536e-01  1.476421e-01   \n",
       "max    ...  3.942090e+01  2.720284e+01  1.050309e+01  2.252841e+01   \n",
       "\n",
       "                V24           V25           V26           V27           V28  \\\n",
       "count  2.848070e+05  2.848070e+05  2.848070e+05  2.848070e+05  2.848070e+05   \n",
       "mean   4.473266e-15  5.340915e-16  1.683437e-15 -3.660091e-16 -1.227390e-16   \n",
       "std    6.056471e-01  5.212781e-01  4.822270e-01  4.036325e-01  3.300833e-01   \n",
       "min   -2.836627e+00 -1.029540e+01 -2.604551e+00 -2.256568e+01 -1.543008e+01   \n",
       "25%   -3.545861e-01 -3.171451e-01 -3.269839e-01 -7.083953e-02 -5.295979e-02   \n",
       "50%    4.097606e-02  1.659350e-02 -5.213911e-02  1.342146e-03  1.124383e-02   \n",
       "75%    4.395266e-01  3.507156e-01  2.409522e-01  9.104512e-02  7.827995e-02   \n",
       "max    4.584549e+00  7.519589e+00  3.517346e+00  3.161220e+01  3.384781e+01   \n",
       "\n",
       "              Amount  \n",
       "count  284807.000000  \n",
       "mean       88.349619  \n",
       "std       250.120109  \n",
       "min         0.000000  \n",
       "25%         5.600000  \n",
       "50%        22.000000  \n",
       "75%        77.165000  \n",
       "max     25691.160000  \n",
       "\n",
       "[8 rows x 30 columns]"
      ]
     },
     "execution_count": 69,
     "metadata": {},
     "output_type": "execute_result"
    }
   ],
   "source": [
    "df[continous].describe()"
   ]
  },
  {
   "cell_type": "code",
   "execution_count": 70,
   "id": "2a4a8510",
   "metadata": {},
   "outputs": [
    {
     "data": {
      "image/png": "[encoded data removed]",
      "text/plain": [
       "<Figure size 800x1800 with 29 Axes>"
      ]
     },
     "metadata": {},
     "output_type": "display_data"
    }
   ],
   "source": [
    "plt.rcParams['figure.figsize']=(8,18)\n",
    "\n",
    "plt.subplot(10,3,1)\n",
    "sns.histplot(df['Time'],kde=True)\n",
    "\n",
    "plt.subplot(10,3,2)\n",
    "sns.histplot(df['V1'],kde=True)\n",
    "\n",
    "plt.subplot(10,3,3)\n",
    "sns.histplot(df['V2'],kde=True)\n",
    "\n",
    "plt.subplot(10,3,4)\n",
    "sns.histplot(df['V3'],kde=True)\n",
    "\n",
    "plt.subplot(10,3,5)\n",
    "sns.histplot(df['V4'],kde=True)\n",
    "\n",
    "plt.subplot(10,3,6)\n",
    "sns.histplot(df['V5'],kde=True)\n",
    "\n",
    "plt.subplot(10,3,7)\n",
    "sns.histplot(df['V6'],kde=True)\n",
    "\n",
    "plt.subplot(10,3,8)\n",
    "sns.histplot(df['V7'],kde=True)\n",
    "\n",
    "plt.subplot(10,3,9)\n",
    "sns.histplot(df['V8'],kde=True)\n",
    "\n",
    "plt.subplot(10,3,10)\n",
    "sns.histplot(df['V9'],kde=True)\n",
    "\n",
    "plt.subplot(10,3,11)\n",
    "sns.histplot(df['V10'],kde=True)\n",
    "\n",
    "plt.subplot(10,3,12)\n",
    "sns.histplot(df['V11'],kde=True)\n",
    "\n",
    "plt.subplot(10,3,13)\n",
    "sns.histplot(df['V12'],kde=True)\n",
    "\n",
    "plt.subplot(10,3,14)\n",
    "sns.histplot(df['V13'],kde=True)\n",
    "\n",
    "plt.subplot(10,3,15)\n",
    "sns.histplot(df['V14'],kde=True)\n",
    "\n",
    "plt.subplot(10,3,16)\n",
    "sns.histplot(df['V15'],kde=True)\n",
    "\n",
    "plt.subplot(10,3,17)\n",
    "sns.histplot(df['V16'],kde=True)\n",
    "\n",
    "plt.subplot(10,3,18)\n",
    "sns.histplot(df['V17'],kde=True)\n",
    "\n",
    "plt.subplot(10,3,19)\n",
    "sns.histplot(df['V18'],kde=True)\n",
    "\n",
    "plt.subplot(10,3,20)\n",
    "sns.histplot(df['V19'],kde=True)\n",
    "\n",
    "plt.subplot(10,3,21)\n",
    "sns.histplot(df['V20'],kde=True)\n",
    "\n",
    "plt.subplot(10,3,22)\n",
    "sns.histplot(df['V21'],kde=True)\n",
    "\n",
    "plt.subplot(10,3,23)\n",
    "sns.histplot(df['V22'],kde=True)\n",
    "\n",
    "plt.subplot(10,3,23)\n",
    "sns.histplot(df['V23'],kde=True)\n",
    "\n",
    "plt.subplot(10,3,24)\n",
    "sns.histplot(df['V24'],kde=True)\n",
    "\n",
    "plt.subplot(10,3,25)\n",
    "sns.histplot(df['V25'],kde=True)\n",
    "\n",
    "plt.subplot(10,3,26)\n",
    "sns.histplot(df['V26'],kde=True)\n",
    "\n",
    "plt.subplot(10,3,27)\n",
    "sns.histplot(df['V27'],kde=True)\n",
    "\n",
    "plt.subplot(10,3,28)\n",
    "sns.histplot(df['V28'],kde=True)\n",
    "\n",
    "plt.subplot(10,3,29)\n",
    "sns.histplot(df['Amount'],kde=True)\n",
    "\n",
    "plt.suptitle('Univariate Analysis on Numerical Columns')\n",
    "plt.show()"
   ]
  },
  {
   "cell_type": "code",
   "execution_count": 71,
   "id": "1639a0ed",
   "metadata": {},
   "outputs": [],
   "source": [
    "from scipy import stats\n",
    "df['V28'], lmbda=stats.yeojohnson(df['V28'])\n",
    "df['Amount'], lmbda=stats.yeojohnson(df['Amount'])\n",
    "df['V1'], lmbda=stats.yeojohnson(df['V1'])\n",
    "df['V2'], lmbda=stats.yeojohnson(df['V2'])\n",
    "df['V3'], lmbda=stats.yeojohnson(df['V3'])\n",
    "df['V5'], lmbda=stats.yeojohnson(df['V5'])\n",
    "df['V6'], lmbda=stats.yeojohnson(df['V6'])\n",
    "df['V7'], lmbda=stats.yeojohnson(df['V7'])\n",
    "df['V8'], lmbda=stats.yeojohnson(df['V8'])\n",
    "df['V10'], lmbda=stats.yeojohnson(df['V10'])\n",
    "df['V12'], lmbda=stats.yeojohnson(df['V12'])\n",
    "df['V14'], lmbda=stats.yeojohnson(df['V14'])\n",
    "df['V16'], lmbda=stats.yeojohnson(df['V16'])\n",
    "df['V17'], lmbda=stats.yeojohnson(df['V17'])\n",
    "df['V20'], lmbda=stats.yeojohnson(df['V20'])\n",
    "df['V21'], lmbda=stats.yeojohnson(df['V21'])\n",
    "df['V23'], lmbda=stats.yeojohnson(df['V23'])\n",
    "df['V27'], lmbda=stats.yeojohnson(df['V27'])"
   ]
  },
  {
   "cell_type": "code",
   "execution_count": 72,
   "id": "460f60b9",
   "metadata": {},
   "outputs": [
    {
     "data": {
      "text/plain": [
       "Time     -0.035568\n",
       "V1       -0.218003\n",
       "V2        0.334852\n",
       "V3       -0.079980\n",
       "V4        0.676292\n",
       "V5       -1.170100\n",
       "V6       -1.937469\n",
       "V7        2.594575\n",
       "V8        2.297590\n",
       "V9        0.554680\n",
       "V10      -1.318333\n",
       "V11       0.356506\n",
       "V12       0.158932\n",
       "V13       0.065233\n",
       "V14       0.105966\n",
       "V15      -0.308423\n",
       "V16       0.137437\n",
       "V17      -0.791141\n",
       "V18      -0.259880\n",
       "V19       0.109192\n",
       "V20      -0.923653\n",
       "V21      -1.966863\n",
       "V22      -0.213258\n",
       "V23      -0.249209\n",
       "V24      -0.552499\n",
       "V25      -0.415793\n",
       "V26       0.576693\n",
       "V27       3.465031\n",
       "V28       1.069192\n",
       "Amount    0.018354\n",
       "dtype: float64"
      ]
     },
     "execution_count": 72,
     "metadata": {},
     "output_type": "execute_result"
    }
   ],
   "source": [
    "df[continous].skew()"
   ]
  },
  {
   "cell_type": "code",
   "execution_count": 73,
   "id": "9a8b4ce3",
   "metadata": {},
   "outputs": [
    {
     "data": {
      "image/png": "[encoded data removed]",
      "text/plain": [
       "<Figure size 800x1800 with 2 Axes>"
      ]
     },
     "metadata": {},
     "output_type": "display_data"
    }
   ],
   "source": [
    "sns.heatmap(df[continous].corr(),annot=True)\n",
    "plt.show()"
   ]
  },
  {
   "cell_type": "markdown",
   "id": "361fc7f5",
   "metadata": {},
   "source": [
    "## Missing Values Treatment"
   ]
  },
  {
   "cell_type": "code",
   "execution_count": 74,
   "id": "e38487c6",
   "metadata": {},
   "outputs": [
    {
     "data": {
      "text/plain": [
       "Time      0\n",
       "V1        0\n",
       "V2        0\n",
       "V3        0\n",
       "V4        0\n",
       "V5        0\n",
       "V6        0\n",
       "V7        0\n",
       "V8        0\n",
       "V9        0\n",
       "V10       0\n",
       "V11       0\n",
       "V12       0\n",
       "V13       0\n",
       "V14       0\n",
       "V15       0\n",
       "V16       0\n",
       "V17       0\n",
       "V18       0\n",
       "V19       0\n",
       "V20       0\n",
       "V21       0\n",
       "V22       0\n",
       "V23       0\n",
       "V24       0\n",
       "V25       0\n",
       "V26       0\n",
       "V27       0\n",
       "V28       0\n",
       "Amount    0\n",
       "Class     0\n",
       "dtype: int64"
      ]
     },
     "execution_count": 74,
     "metadata": {},
     "output_type": "execute_result"
    }
   ],
   "source": [
    "# Cheching missing value\n",
    "df.isnull().sum()"
   ]
  },
  {
   "cell_type": "code",
   "execution_count": 75,
   "id": "d9e474cd",
   "metadata": {},
   "outputs": [
    {
     "data": {
      "text/plain": [
       "Time     -0.035568\n",
       "V1       -0.218003\n",
       "V2        0.334852\n",
       "V3       -0.079980\n",
       "V4        0.676292\n",
       "V5       -1.170100\n",
       "V6       -1.937469\n",
       "V7        2.594575\n",
       "V8        2.297590\n",
       "V9        0.554680\n",
       "V10      -1.318333\n",
       "V11       0.356506\n",
       "V12       0.158932\n",
       "V13       0.065233\n",
       "V14       0.105966\n",
       "V15      -0.308423\n",
       "V16       0.137437\n",
       "V17      -0.791141\n",
       "V18      -0.259880\n",
       "V19       0.109192\n",
       "V20      -0.923653\n",
       "V21      -1.966863\n",
       "V22      -0.213258\n",
       "V23      -0.249209\n",
       "V24      -0.552499\n",
       "V25      -0.415793\n",
       "V26       0.576693\n",
       "V27       3.465031\n",
       "V28       1.069192\n",
       "Amount    0.018354\n",
       "dtype: float64"
      ]
     },
     "execution_count": 75,
     "metadata": {},
     "output_type": "execute_result"
    }
   ],
   "source": [
    "df[['Time', 'V1', 'V2', 'V3', 'V4', 'V5', 'V6', 'V7', 'V8', 'V9', 'V10',\n",
    "       'V11', 'V12', 'V13', 'V14', 'V15', 'V16', 'V17', 'V18', 'V19', 'V20',\n",
    "       'V21', 'V22', 'V23', 'V24', 'V25', 'V26', 'V27', 'V28', 'Amount']].skew()"
   ]
  },
  {
   "cell_type": "code",
   "execution_count": 76,
   "id": "d069798e",
   "metadata": {},
   "outputs": [
    {
     "data": {
      "text/plain": [
       "Class\n",
       "0    284315\n",
       "1       492\n",
       "Name: count, dtype: int64"
      ]
     },
     "execution_count": 76,
     "metadata": {},
     "output_type": "execute_result"
    }
   ],
   "source": [
    "df['Class'].value_counts()"
   ]
  },
  {
   "cell_type": "code",
   "execution_count": 77,
   "id": "25ea8ce8",
   "metadata": {},
   "outputs": [
    {
     "name": "stdout",
     "output_type": "stream",
     "text": [
      "<class 'pandas.core.frame.DataFrame'>\n",
      "RangeIndex: 284807 entries, 0 to 284806\n",
      "Data columns (total 31 columns):\n",
      " #   Column  Non-Null Count   Dtype  \n",
      "---  ------  --------------   -----  \n",
      " 0   Time    284807 non-null  float64\n",
      " 1   V1      284807 non-null  float64\n",
      " 2   V2      284807 non-null  float64\n",
      " 3   V3      284807 non-null  float64\n",
      " 4   V4      284807 non-null  float64\n",
      " 5   V5      284807 non-null  float64\n",
      " 6   V6      284807 non-null  float64\n",
      " 7   V7      284807 non-null  float64\n",
      " 8   V8      284807 non-null  float64\n",
      " 9   V9      284807 non-null  float64\n",
      " 10  V10     284807 non-null  float64\n",
      " 11  V11     284807 non-null  float64\n",
      " 12  V12     284807 non-null  float64\n",
      " 13  V13     284807 non-null  float64\n",
      " 14  V14     284807 non-null  float64\n",
      " 15  V15     284807 non-null  float64\n",
      " 16  V16     284807 non-null  float64\n",
      " 17  V17     284807 non-null  float64\n",
      " 18  V18     284807 non-null  float64\n",
      " 19  V19     284807 non-null  float64\n",
      " 20  V20     284807 non-null  float64\n",
      " 21  V21     284807 non-null  float64\n",
      " 22  V22     284807 non-null  float64\n",
      " 23  V23     284807 non-null  float64\n",
      " 24  V24     284807 non-null  float64\n",
      " 25  V25     284807 non-null  float64\n",
      " 26  V26     284807 non-null  float64\n",
      " 27  V27     284807 non-null  float64\n",
      " 28  V28     284807 non-null  float64\n",
      " 29  Amount  284807 non-null  float64\n",
      " 30  Class   284807 non-null  int64  \n",
      "dtypes: float64(30), int64(1)\n",
      "memory usage: 67.4 MB\n"
     ]
    }
   ],
   "source": [
    "df.info()"
   ]
  },
  {
   "cell_type": "code",
   "execution_count": 78,
   "id": "2fd07826",
   "metadata": {},
   "outputs": [],
   "source": [
    "df['Hours']=df['Time'].apply(lambda x : np.floor(x/3600))"
   ]
  },
  {
   "cell_type": "code",
   "execution_count": null,
   "id": "934e6313",
   "metadata": {},
   "outputs": [],
   "source": []
  },
  {
   "cell_type": "code",
   "execution_count": 79,
   "id": "e86b3109",
   "metadata": {},
   "outputs": [
    {
     "data": {
      "text/html": [
       "<div>\n",
       "<style scoped>\n",
       "    .dataframe tbody tr th:only-of-type {\n",
       "        vertical-align: middle;\n",
       "    }\n",
       "\n",
       "    .dataframe tbody tr th {\n",
       "        vertical-align: top;\n",
       "    }\n",
       "\n",
       "    .dataframe thead th {\n",
       "        text-align: right;\n",
       "    }\n",
       "</style>\n",
       "<table border=\"1\" class=\"dataframe\">\n",
       "  <thead>\n",
       "    <tr style=\"text-align: right;\">\n",
       "      <th></th>\n",
       "      <th>Time</th>\n",
       "      <th>V1</th>\n",
       "      <th>V2</th>\n",
       "      <th>V3</th>\n",
       "      <th>V4</th>\n",
       "      <th>V5</th>\n",
       "      <th>V6</th>\n",
       "      <th>V7</th>\n",
       "      <th>V8</th>\n",
       "      <th>V9</th>\n",
       "      <th>...</th>\n",
       "      <th>V22</th>\n",
       "      <th>V23</th>\n",
       "      <th>V24</th>\n",
       "      <th>V25</th>\n",
       "      <th>V26</th>\n",
       "      <th>V27</th>\n",
       "      <th>V28</th>\n",
       "      <th>Amount</th>\n",
       "      <th>Class</th>\n",
       "      <th>Hours</th>\n",
       "    </tr>\n",
       "  </thead>\n",
       "  <tbody>\n",
       "    <tr>\n",
       "      <th>0</th>\n",
       "      <td>0.0</td>\n",
       "      <td>-1.080732</td>\n",
       "      <td>-0.072236</td>\n",
       "      <td>3.312132</td>\n",
       "      <td>1.378155</td>\n",
       "      <td>-0.336689</td>\n",
       "      <td>0.436551</td>\n",
       "      <td>0.239614</td>\n",
       "      <td>0.100070</td>\n",
       "      <td>0.363787</td>\n",
       "      <td>...</td>\n",
       "      <td>0.277838</td>\n",
       "      <td>-0.110039</td>\n",
       "      <td>0.066928</td>\n",
       "      <td>0.128539</td>\n",
       "      <td>-0.189115</td>\n",
       "      <td>0.134450</td>\n",
       "      <td>-0.021081</td>\n",
       "      <td>4.490035</td>\n",
       "      <td>0</td>\n",
       "      <td>0.0</td>\n",
       "    </tr>\n",
       "    <tr>\n",
       "      <th>1</th>\n",
       "      <td>0.0</td>\n",
       "      <td>1.484882</td>\n",
       "      <td>0.273183</td>\n",
       "      <td>0.171049</td>\n",
       "      <td>0.448154</td>\n",
       "      <td>0.060074</td>\n",
       "      <td>-0.083316</td>\n",
       "      <td>-0.078801</td>\n",
       "      <td>0.086125</td>\n",
       "      <td>-0.255425</td>\n",
       "      <td>...</td>\n",
       "      <td>-0.638672</td>\n",
       "      <td>0.101657</td>\n",
       "      <td>-0.339846</td>\n",
       "      <td>0.167170</td>\n",
       "      <td>0.125895</td>\n",
       "      <td>-0.008979</td>\n",
       "      <td>0.014711</td>\n",
       "      <td>1.268075</td>\n",
       "      <td>0</td>\n",
       "      <td>0.0</td>\n",
       "    </tr>\n",
       "    <tr>\n",
       "      <th>2</th>\n",
       "      <td>1.0</td>\n",
       "      <td>-1.079772</td>\n",
       "      <td>-1.211001</td>\n",
       "      <td>2.183093</td>\n",
       "      <td>0.379780</td>\n",
       "      <td>-0.499746</td>\n",
       "      <td>1.520191</td>\n",
       "      <td>0.791604</td>\n",
       "      <td>0.256047</td>\n",
       "      <td>-1.514654</td>\n",
       "      <td>...</td>\n",
       "      <td>0.771679</td>\n",
       "      <td>0.933941</td>\n",
       "      <td>-0.689281</td>\n",
       "      <td>-0.327642</td>\n",
       "      <td>-0.139097</td>\n",
       "      <td>-0.055197</td>\n",
       "      <td>-0.059971</td>\n",
       "      <td>5.212956</td>\n",
       "      <td>0</td>\n",
       "      <td>0.0</td>\n",
       "    </tr>\n",
       "    <tr>\n",
       "      <th>3</th>\n",
       "      <td>1.0</td>\n",
       "      <td>-0.809363</td>\n",
       "      <td>-0.181839</td>\n",
       "      <td>2.211152</td>\n",
       "      <td>-0.863291</td>\n",
       "      <td>-0.010307</td>\n",
       "      <td>1.095690</td>\n",
       "      <td>0.237624</td>\n",
       "      <td>0.396379</td>\n",
       "      <td>-1.387024</td>\n",
       "      <td>...</td>\n",
       "      <td>0.005274</td>\n",
       "      <td>-0.189062</td>\n",
       "      <td>-1.175575</td>\n",
       "      <td>0.647376</td>\n",
       "      <td>-0.221929</td>\n",
       "      <td>0.062924</td>\n",
       "      <td>0.061227</td>\n",
       "      <td>4.337344</td>\n",
       "      <td>0</td>\n",
       "      <td>0.0</td>\n",
       "    </tr>\n",
       "    <tr>\n",
       "      <th>4</th>\n",
       "      <td>2.0</td>\n",
       "      <td>-0.944721</td>\n",
       "      <td>0.945546</td>\n",
       "      <td>1.869564</td>\n",
       "      <td>0.403034</td>\n",
       "      <td>-0.404874</td>\n",
       "      <td>0.094653</td>\n",
       "      <td>0.593025</td>\n",
       "      <td>-0.261047</td>\n",
       "      <td>0.817739</td>\n",
       "      <td>...</td>\n",
       "      <td>0.798278</td>\n",
       "      <td>-0.136790</td>\n",
       "      <td>0.141267</td>\n",
       "      <td>-0.206010</td>\n",
       "      <td>0.502292</td>\n",
       "      <td>0.221775</td>\n",
       "      <td>0.212472</td>\n",
       "      <td>3.879280</td>\n",
       "      <td>0</td>\n",
       "      <td>0.0</td>\n",
       "    </tr>\n",
       "    <tr>\n",
       "      <th>...</th>\n",
       "      <td>...</td>\n",
       "      <td>...</td>\n",
       "      <td>...</td>\n",
       "      <td>...</td>\n",
       "      <td>...</td>\n",
       "      <td>...</td>\n",
       "      <td>...</td>\n",
       "      <td>...</td>\n",
       "      <td>...</td>\n",
       "      <td>...</td>\n",
       "      <td>...</td>\n",
       "      <td>...</td>\n",
       "      <td>...</td>\n",
       "      <td>...</td>\n",
       "      <td>...</td>\n",
       "      <td>...</td>\n",
       "      <td>...</td>\n",
       "      <td>...</td>\n",
       "      <td>...</td>\n",
       "      <td>...</td>\n",
       "      <td>...</td>\n",
       "    </tr>\n",
       "    <tr>\n",
       "      <th>284802</th>\n",
       "      <td>172786.0</td>\n",
       "      <td>-5.315610</td>\n",
       "      <td>14.378982</td>\n",
       "      <td>-5.774756</td>\n",
       "      <td>-2.066656</td>\n",
       "      <td>-5.165754</td>\n",
       "      <td>-3.272947</td>\n",
       "      <td>-4.915054</td>\n",
       "      <td>11.091985</td>\n",
       "      <td>1.914428</td>\n",
       "      <td>...</td>\n",
       "      <td>0.111864</td>\n",
       "      <td>1.044386</td>\n",
       "      <td>-0.509348</td>\n",
       "      <td>1.436807</td>\n",
       "      <td>0.250034</td>\n",
       "      <td>0.980706</td>\n",
       "      <td>0.790622</td>\n",
       "      <td>0.563719</td>\n",
       "      <td>0</td>\n",
       "      <td>47.0</td>\n",
       "    </tr>\n",
       "    <tr>\n",
       "      <th>284803</th>\n",
       "      <td>172787.0</td>\n",
       "      <td>-0.635800</td>\n",
       "      <td>-0.054766</td>\n",
       "      <td>2.559832</td>\n",
       "      <td>-0.738589</td>\n",
       "      <td>0.877777</td>\n",
       "      <td>0.944178</td>\n",
       "      <td>0.024330</td>\n",
       "      <td>0.306621</td>\n",
       "      <td>0.584800</td>\n",
       "      <td>...</td>\n",
       "      <td>0.924384</td>\n",
       "      <td>0.012469</td>\n",
       "      <td>-1.016226</td>\n",
       "      <td>-0.606624</td>\n",
       "      <td>-0.395255</td>\n",
       "      <td>0.068711</td>\n",
       "      <td>-0.053704</td>\n",
       "      <td>3.023876</td>\n",
       "      <td>0</td>\n",
       "      <td>47.0</td>\n",
       "    </tr>\n",
       "    <tr>\n",
       "      <th>284804</th>\n",
       "      <td>172788.0</td>\n",
       "      <td>2.628917</td>\n",
       "      <td>-0.292648</td>\n",
       "      <td>-2.419053</td>\n",
       "      <td>-0.557828</td>\n",
       "      <td>2.696438</td>\n",
       "      <td>2.387003</td>\n",
       "      <td>-0.296804</td>\n",
       "      <td>0.771292</td>\n",
       "      <td>0.432454</td>\n",
       "      <td>...</td>\n",
       "      <td>0.578229</td>\n",
       "      <td>-0.037449</td>\n",
       "      <td>0.640134</td>\n",
       "      <td>0.265745</td>\n",
       "      <td>-0.087371</td>\n",
       "      <td>0.004456</td>\n",
       "      <td>-0.026605</td>\n",
       "      <td>3.854348</td>\n",
       "      <td>0</td>\n",
       "      <td>47.0</td>\n",
       "    </tr>\n",
       "    <tr>\n",
       "      <th>284805</th>\n",
       "      <td>172788.0</td>\n",
       "      <td>-0.227924</td>\n",
       "      <td>0.556898</td>\n",
       "      <td>0.776547</td>\n",
       "      <td>0.689799</td>\n",
       "      <td>-0.375947</td>\n",
       "      <td>0.579011</td>\n",
       "      <td>-0.686070</td>\n",
       "      <td>0.737218</td>\n",
       "      <td>0.392087</td>\n",
       "      <td>...</td>\n",
       "      <td>0.800049</td>\n",
       "      <td>-0.162364</td>\n",
       "      <td>0.123205</td>\n",
       "      <td>-0.569159</td>\n",
       "      <td>0.546668</td>\n",
       "      <td>0.109417</td>\n",
       "      <td>0.103876</td>\n",
       "      <td>2.273259</td>\n",
       "      <td>0</td>\n",
       "      <td>47.0</td>\n",
       "    </tr>\n",
       "    <tr>\n",
       "      <th>284806</th>\n",
       "      <td>172792.0</td>\n",
       "      <td>-0.478413</td>\n",
       "      <td>-0.186186</td>\n",
       "      <td>0.777539</td>\n",
       "      <td>-0.506271</td>\n",
       "      <td>-0.012543</td>\n",
       "      <td>-0.702771</td>\n",
       "      <td>1.577493</td>\n",
       "      <td>-0.393454</td>\n",
       "      <td>0.486180</td>\n",
       "      <td>...</td>\n",
       "      <td>0.643078</td>\n",
       "      <td>0.381515</td>\n",
       "      <td>0.008797</td>\n",
       "      <td>-0.473649</td>\n",
       "      <td>-0.818267</td>\n",
       "      <td>-0.002415</td>\n",
       "      <td>0.013637</td>\n",
       "      <td>4.782755</td>\n",
       "      <td>0</td>\n",
       "      <td>47.0</td>\n",
       "    </tr>\n",
       "  </tbody>\n",
       "</table>\n",
       "<p>284807 rows × 32 columns</p>\n",
       "</div>"
      ],
      "text/plain": [
       "            Time        V1         V2        V3        V4        V5        V6  \\\n",
       "0            0.0 -1.080732  -0.072236  3.312132  1.378155 -0.336689  0.436551   \n",
       "1            0.0  1.484882   0.273183  0.171049  0.448154  0.060074 -0.083316   \n",
       "2            1.0 -1.079772  -1.211001  2.183093  0.379780 -0.499746  1.520191   \n",
       "3            1.0 -0.809363  -0.181839  2.211152 -0.863291 -0.010307  1.095690   \n",
       "4            2.0 -0.944721   0.945546  1.869564  0.403034 -0.404874  0.094653   \n",
       "...          ...       ...        ...       ...       ...       ...       ...   \n",
       "284802  172786.0 -5.315610  14.378982 -5.774756 -2.066656 -5.165754 -3.272947   \n",
       "284803  172787.0 -0.635800  -0.054766  2.559832 -0.738589  0.877777  0.944178   \n",
       "284804  172788.0  2.628917  -0.292648 -2.419053 -0.557828  2.696438  2.387003   \n",
       "284805  172788.0 -0.227924   0.556898  0.776547  0.689799 -0.375947  0.579011   \n",
       "284806  172792.0 -0.478413  -0.186186  0.777539 -0.506271 -0.012543 -0.702771   \n",
       "\n",
       "              V7         V8        V9  ...       V22       V23       V24  \\\n",
       "0       0.239614   0.100070  0.363787  ...  0.277838 -0.110039  0.066928   \n",
       "1      -0.078801   0.086125 -0.255425  ... -0.638672  0.101657 -0.339846   \n",
       "2       0.791604   0.256047 -1.514654  ...  0.771679  0.933941 -0.689281   \n",
       "3       0.237624   0.396379 -1.387024  ...  0.005274 -0.189062 -1.175575   \n",
       "4       0.593025  -0.261047  0.817739  ...  0.798278 -0.136790  0.141267   \n",
       "...          ...        ...       ...  ...       ...       ...       ...   \n",
       "284802 -4.915054  11.091985  1.914428  ...  0.111864  1.044386 -0.509348   \n",
       "284803  0.024330   0.306621  0.584800  ...  0.924384  0.012469 -1.016226   \n",
       "284804 -0.296804   0.771292  0.432454  ...  0.578229 -0.037449  0.640134   \n",
       "284805 -0.686070   0.737218  0.392087  ...  0.800049 -0.162364  0.123205   \n",
       "284806  1.577493  -0.393454  0.486180  ...  0.643078  0.381515  0.008797   \n",
       "\n",
       "             V25       V26       V27       V28    Amount  Class  Hours  \n",
       "0       0.128539 -0.189115  0.134450 -0.021081  4.490035      0    0.0  \n",
       "1       0.167170  0.125895 -0.008979  0.014711  1.268075      0    0.0  \n",
       "2      -0.327642 -0.139097 -0.055197 -0.059971  5.212956      0    0.0  \n",
       "3       0.647376 -0.221929  0.062924  0.061227  4.337344      0    0.0  \n",
       "4      -0.206010  0.502292  0.221775  0.212472  3.879280      0    0.0  \n",
       "...          ...       ...       ...       ...       ...    ...    ...  \n",
       "284802  1.436807  0.250034  0.980706  0.790622  0.563719      0   47.0  \n",
       "284803 -0.606624 -0.395255  0.068711 -0.053704  3.023876      0   47.0  \n",
       "284804  0.265745 -0.087371  0.004456 -0.026605  3.854348      0   47.0  \n",
       "284805 -0.569159  0.546668  0.109417  0.103876  2.273259      0   47.0  \n",
       "284806 -0.473649 -0.818267 -0.002415  0.013637  4.782755      0   47.0  \n",
       "\n",
       "[284807 rows x 32 columns]"
      ]
     },
     "execution_count": 79,
     "metadata": {},
     "output_type": "execute_result"
    }
   ],
   "source": [
    " df"
   ]
  },
  {
   "cell_type": "code",
   "execution_count": 80,
   "id": "22d0a4a7",
   "metadata": {},
   "outputs": [
    {
     "data": {
      "text/html": [
       "<div>\n",
       "<style scoped>\n",
       "    .dataframe tbody tr th:only-of-type {\n",
       "        vertical-align: middle;\n",
       "    }\n",
       "\n",
       "    .dataframe tbody tr th {\n",
       "        vertical-align: top;\n",
       "    }\n",
       "\n",
       "    .dataframe thead th {\n",
       "        text-align: right;\n",
       "    }\n",
       "</style>\n",
       "<table border=\"1\" class=\"dataframe\">\n",
       "  <thead>\n",
       "    <tr style=\"text-align: right;\">\n",
       "      <th></th>\n",
       "      <th>Time</th>\n",
       "      <th>V1</th>\n",
       "      <th>V2</th>\n",
       "      <th>V3</th>\n",
       "      <th>V4</th>\n",
       "      <th>V5</th>\n",
       "      <th>V6</th>\n",
       "      <th>V7</th>\n",
       "      <th>V8</th>\n",
       "      <th>V9</th>\n",
       "      <th>...</th>\n",
       "      <th>V22</th>\n",
       "      <th>V23</th>\n",
       "      <th>V24</th>\n",
       "      <th>V25</th>\n",
       "      <th>V26</th>\n",
       "      <th>V27</th>\n",
       "      <th>V28</th>\n",
       "      <th>Amount</th>\n",
       "      <th>Class</th>\n",
       "      <th>Hours</th>\n",
       "    </tr>\n",
       "  </thead>\n",
       "  <tbody>\n",
       "    <tr>\n",
       "      <th>199952</th>\n",
       "      <td>133211.0</td>\n",
       "      <td>2.535785</td>\n",
       "      <td>-0.617602</td>\n",
       "      <td>-0.387672</td>\n",
       "      <td>0.093165</td>\n",
       "      <td>-0.648130</td>\n",
       "      <td>-0.140612</td>\n",
       "      <td>-0.609544</td>\n",
       "      <td>0.029567</td>\n",
       "      <td>1.148072</td>\n",
       "      <td>...</td>\n",
       "      <td>0.869341</td>\n",
       "      <td>0.024429</td>\n",
       "      <td>-0.266204</td>\n",
       "      <td>-0.149939</td>\n",
       "      <td>0.116657</td>\n",
       "      <td>0.006762</td>\n",
       "      <td>-0.043683</td>\n",
       "      <td>3.818371</td>\n",
       "      <td>0</td>\n",
       "      <td>37.0</td>\n",
       "    </tr>\n",
       "    <tr>\n",
       "      <th>231868</th>\n",
       "      <td>146957.0</td>\n",
       "      <td>1.750300</td>\n",
       "      <td>-1.444568</td>\n",
       "      <td>-0.609690</td>\n",
       "      <td>0.852262</td>\n",
       "      <td>-0.974144</td>\n",
       "      <td>0.382066</td>\n",
       "      <td>-0.474976</td>\n",
       "      <td>0.172512</td>\n",
       "      <td>1.813475</td>\n",
       "      <td>...</td>\n",
       "      <td>1.066875</td>\n",
       "      <td>-0.334763</td>\n",
       "      <td>-0.321260</td>\n",
       "      <td>0.107242</td>\n",
       "      <td>0.006182</td>\n",
       "      <td>-0.008906</td>\n",
       "      <td>-0.011725</td>\n",
       "      <td>5.025045</td>\n",
       "      <td>0</td>\n",
       "      <td>40.0</td>\n",
       "    </tr>\n",
       "    <tr>\n",
       "      <th>244667</th>\n",
       "      <td>152440.0</td>\n",
       "      <td>2.634361</td>\n",
       "      <td>0.033906</td>\n",
       "      <td>-1.488036</td>\n",
       "      <td>1.198837</td>\n",
       "      <td>0.710432</td>\n",
       "      <td>-0.555358</td>\n",
       "      <td>0.623124</td>\n",
       "      <td>-0.265777</td>\n",
       "      <td>-0.086598</td>\n",
       "      <td>...</td>\n",
       "      <td>0.401141</td>\n",
       "      <td>-0.122543</td>\n",
       "      <td>-0.533935</td>\n",
       "      <td>0.486681</td>\n",
       "      <td>-0.483476</td>\n",
       "      <td>-0.026180</td>\n",
       "      <td>-0.067826</td>\n",
       "      <td>3.739871</td>\n",
       "      <td>0</td>\n",
       "      <td>42.0</td>\n",
       "    </tr>\n",
       "    <tr>\n",
       "      <th>185282</th>\n",
       "      <td>126605.0</td>\n",
       "      <td>-0.846867</td>\n",
       "      <td>0.998494</td>\n",
       "      <td>1.765245</td>\n",
       "      <td>-1.336544</td>\n",
       "      <td>0.053393</td>\n",
       "      <td>-0.027810</td>\n",
       "      <td>0.464300</td>\n",
       "      <td>-0.002426</td>\n",
       "      <td>0.961193</td>\n",
       "      <td>...</td>\n",
       "      <td>-0.389746</td>\n",
       "      <td>-0.131085</td>\n",
       "      <td>-0.464515</td>\n",
       "      <td>-0.325797</td>\n",
       "      <td>-0.312449</td>\n",
       "      <td>-0.120488</td>\n",
       "      <td>0.012488</td>\n",
       "      <td>0.563719</td>\n",
       "      <td>0</td>\n",
       "      <td>35.0</td>\n",
       "    </tr>\n",
       "    <tr>\n",
       "      <th>244394</th>\n",
       "      <td>152330.0</td>\n",
       "      <td>-0.154241</td>\n",
       "      <td>1.481203</td>\n",
       "      <td>-0.881476</td>\n",
       "      <td>-0.648938</td>\n",
       "      <td>0.983520</td>\n",
       "      <td>-0.548604</td>\n",
       "      <td>0.698446</td>\n",
       "      <td>0.302124</td>\n",
       "      <td>-0.343029</td>\n",
       "      <td>...</td>\n",
       "      <td>-0.867133</td>\n",
       "      <td>0.078364</td>\n",
       "      <td>0.009316</td>\n",
       "      <td>-0.276669</td>\n",
       "      <td>0.148072</td>\n",
       "      <td>0.101772</td>\n",
       "      <td>0.018124</td>\n",
       "      <td>2.272443</td>\n",
       "      <td>0</td>\n",
       "      <td>42.0</td>\n",
       "    </tr>\n",
       "    <tr>\n",
       "      <th>...</th>\n",
       "      <td>...</td>\n",
       "      <td>...</td>\n",
       "      <td>...</td>\n",
       "      <td>...</td>\n",
       "      <td>...</td>\n",
       "      <td>...</td>\n",
       "      <td>...</td>\n",
       "      <td>...</td>\n",
       "      <td>...</td>\n",
       "      <td>...</td>\n",
       "      <td>...</td>\n",
       "      <td>...</td>\n",
       "      <td>...</td>\n",
       "      <td>...</td>\n",
       "      <td>...</td>\n",
       "      <td>...</td>\n",
       "      <td>...</td>\n",
       "      <td>...</td>\n",
       "      <td>...</td>\n",
       "      <td>...</td>\n",
       "      <td>...</td>\n",
       "    </tr>\n",
       "    <tr>\n",
       "      <th>140558</th>\n",
       "      <td>83786.0</td>\n",
       "      <td>-1.309656</td>\n",
       "      <td>0.682801</td>\n",
       "      <td>2.230003</td>\n",
       "      <td>1.585288</td>\n",
       "      <td>0.774691</td>\n",
       "      <td>0.544801</td>\n",
       "      <td>0.046915</td>\n",
       "      <td>0.902354</td>\n",
       "      <td>-1.343463</td>\n",
       "      <td>...</td>\n",
       "      <td>0.140482</td>\n",
       "      <td>-0.324770</td>\n",
       "      <td>-0.275329</td>\n",
       "      <td>0.618018</td>\n",
       "      <td>0.018483</td>\n",
       "      <td>-0.079703</td>\n",
       "      <td>-0.117698</td>\n",
       "      <td>3.090478</td>\n",
       "      <td>0</td>\n",
       "      <td>23.0</td>\n",
       "    </tr>\n",
       "    <tr>\n",
       "      <th>22873</th>\n",
       "      <td>32480.0</td>\n",
       "      <td>-0.629980</td>\n",
       "      <td>1.184940</td>\n",
       "      <td>2.987181</td>\n",
       "      <td>1.754984</td>\n",
       "      <td>0.244733</td>\n",
       "      <td>0.139730</td>\n",
       "      <td>0.206079</td>\n",
       "      <td>0.119833</td>\n",
       "      <td>-0.922247</td>\n",
       "      <td>...</td>\n",
       "      <td>0.154456</td>\n",
       "      <td>-0.208285</td>\n",
       "      <td>-0.131248</td>\n",
       "      <td>-0.260219</td>\n",
       "      <td>-0.103805</td>\n",
       "      <td>0.015845</td>\n",
       "      <td>0.119464</td>\n",
       "      <td>1.552633</td>\n",
       "      <td>0</td>\n",
       "      <td>9.0</td>\n",
       "    </tr>\n",
       "    <tr>\n",
       "      <th>127455</th>\n",
       "      <td>78336.0</td>\n",
       "      <td>1.365935</td>\n",
       "      <td>0.020094</td>\n",
       "      <td>0.458218</td>\n",
       "      <td>0.680982</td>\n",
       "      <td>-0.527837</td>\n",
       "      <td>-1.065652</td>\n",
       "      <td>0.183910</td>\n",
       "      <td>-0.233347</td>\n",
       "      <td>-0.004643</td>\n",
       "      <td>...</td>\n",
       "      <td>-0.764425</td>\n",
       "      <td>0.063938</td>\n",
       "      <td>0.386116</td>\n",
       "      <td>0.198413</td>\n",
       "      <td>0.085619</td>\n",
       "      <td>-0.041989</td>\n",
       "      <td>0.033104</td>\n",
       "      <td>3.987880</td>\n",
       "      <td>0</td>\n",
       "      <td>21.0</td>\n",
       "    </tr>\n",
       "    <tr>\n",
       "      <th>130964</th>\n",
       "      <td>79469.0</td>\n",
       "      <td>1.417433</td>\n",
       "      <td>-0.517694</td>\n",
       "      <td>1.092102</td>\n",
       "      <td>-0.829596</td>\n",
       "      <td>-1.172776</td>\n",
       "      <td>-0.184086</td>\n",
       "      <td>-0.843858</td>\n",
       "      <td>0.332713</td>\n",
       "      <td>1.756102</td>\n",
       "      <td>...</td>\n",
       "      <td>0.363891</td>\n",
       "      <td>0.023351</td>\n",
       "      <td>0.209797</td>\n",
       "      <td>0.322757</td>\n",
       "      <td>-0.682246</td>\n",
       "      <td>0.097904</td>\n",
       "      <td>0.020732</td>\n",
       "      <td>0.682467</td>\n",
       "      <td>0</td>\n",
       "      <td>22.0</td>\n",
       "    </tr>\n",
       "    <tr>\n",
       "      <th>133932</th>\n",
       "      <td>80578.0</td>\n",
       "      <td>1.461201</td>\n",
       "      <td>0.053397</td>\n",
       "      <td>1.471144</td>\n",
       "      <td>1.389804</td>\n",
       "      <td>-0.915269</td>\n",
       "      <td>-0.266905</td>\n",
       "      <td>-0.554323</td>\n",
       "      <td>0.060727</td>\n",
       "      <td>0.693416</td>\n",
       "      <td>...</td>\n",
       "      <td>0.547137</td>\n",
       "      <td>-0.085532</td>\n",
       "      <td>0.418419</td>\n",
       "      <td>0.513044</td>\n",
       "      <td>-0.242825</td>\n",
       "      <td>0.069930</td>\n",
       "      <td>0.035472</td>\n",
       "      <td>0.682467</td>\n",
       "      <td>0</td>\n",
       "      <td>22.0</td>\n",
       "    </tr>\n",
       "  </tbody>\n",
       "</table>\n",
       "<p>508 rows × 32 columns</p>\n",
       "</div>"
      ],
      "text/plain": [
       "            Time        V1        V2        V3        V4        V5        V6  \\\n",
       "199952  133211.0  2.535785 -0.617602 -0.387672  0.093165 -0.648130 -0.140612   \n",
       "231868  146957.0  1.750300 -1.444568 -0.609690  0.852262 -0.974144  0.382066   \n",
       "244667  152440.0  2.634361  0.033906 -1.488036  1.198837  0.710432 -0.555358   \n",
       "185282  126605.0 -0.846867  0.998494  1.765245 -1.336544  0.053393 -0.027810   \n",
       "244394  152330.0 -0.154241  1.481203 -0.881476 -0.648938  0.983520 -0.548604   \n",
       "...          ...       ...       ...       ...       ...       ...       ...   \n",
       "140558   83786.0 -1.309656  0.682801  2.230003  1.585288  0.774691  0.544801   \n",
       "22873    32480.0 -0.629980  1.184940  2.987181  1.754984  0.244733  0.139730   \n",
       "127455   78336.0  1.365935  0.020094  0.458218  0.680982 -0.527837 -1.065652   \n",
       "130964   79469.0  1.417433 -0.517694  1.092102 -0.829596 -1.172776 -0.184086   \n",
       "133932   80578.0  1.461201  0.053397  1.471144  1.389804 -0.915269 -0.266905   \n",
       "\n",
       "              V7        V8        V9  ...       V22       V23       V24  \\\n",
       "199952 -0.609544  0.029567  1.148072  ...  0.869341  0.024429 -0.266204   \n",
       "231868 -0.474976  0.172512  1.813475  ...  1.066875 -0.334763 -0.321260   \n",
       "244667  0.623124 -0.265777 -0.086598  ...  0.401141 -0.122543 -0.533935   \n",
       "185282  0.464300 -0.002426  0.961193  ... -0.389746 -0.131085 -0.464515   \n",
       "244394  0.698446  0.302124 -0.343029  ... -0.867133  0.078364  0.009316   \n",
       "...          ...       ...       ...  ...       ...       ...       ...   \n",
       "140558  0.046915  0.902354 -1.343463  ...  0.140482 -0.324770 -0.275329   \n",
       "22873   0.206079  0.119833 -0.922247  ...  0.154456 -0.208285 -0.131248   \n",
       "127455  0.183910 -0.233347 -0.004643  ... -0.764425  0.063938  0.386116   \n",
       "130964 -0.843858  0.332713  1.756102  ...  0.363891  0.023351  0.209797   \n",
       "133932 -0.554323  0.060727  0.693416  ...  0.547137 -0.085532  0.418419   \n",
       "\n",
       "             V25       V26       V27       V28    Amount  Class  Hours  \n",
       "199952 -0.149939  0.116657  0.006762 -0.043683  3.818371      0   37.0  \n",
       "231868  0.107242  0.006182 -0.008906 -0.011725  5.025045      0   40.0  \n",
       "244667  0.486681 -0.483476 -0.026180 -0.067826  3.739871      0   42.0  \n",
       "185282 -0.325797 -0.312449 -0.120488  0.012488  0.563719      0   35.0  \n",
       "244394 -0.276669  0.148072  0.101772  0.018124  2.272443      0   42.0  \n",
       "...          ...       ...       ...       ...       ...    ...    ...  \n",
       "140558  0.618018  0.018483 -0.079703 -0.117698  3.090478      0   23.0  \n",
       "22873  -0.260219 -0.103805  0.015845  0.119464  1.552633      0    9.0  \n",
       "127455  0.198413  0.085619 -0.041989  0.033104  3.987880      0   21.0  \n",
       "130964  0.322757 -0.682246  0.097904  0.020732  0.682467      0   22.0  \n",
       "133932  0.513044 -0.242825  0.069930  0.035472  0.682467      0   22.0  \n",
       "\n",
       "[508 rows x 32 columns]"
      ]
     },
     "execution_count": 80,
     "metadata": {},
     "output_type": "execute_result"
    }
   ],
   "source": [
    "df1 = df[df['Class'] == 0].sample(508)\n",
    "df1"
   ]
  },
  {
   "cell_type": "code",
   "execution_count": 81,
   "id": "e89bac48",
   "metadata": {},
   "outputs": [
    {
     "data": {
      "text/html": [
       "<div>\n",
       "<style scoped>\n",
       "    .dataframe tbody tr th:only-of-type {\n",
       "        vertical-align: middle;\n",
       "    }\n",
       "\n",
       "    .dataframe tbody tr th {\n",
       "        vertical-align: top;\n",
       "    }\n",
       "\n",
       "    .dataframe thead th {\n",
       "        text-align: right;\n",
       "    }\n",
       "</style>\n",
       "<table border=\"1\" class=\"dataframe\">\n",
       "  <thead>\n",
       "    <tr style=\"text-align: right;\">\n",
       "      <th></th>\n",
       "      <th>Time</th>\n",
       "      <th>V1</th>\n",
       "      <th>V2</th>\n",
       "      <th>V3</th>\n",
       "      <th>V4</th>\n",
       "      <th>V5</th>\n",
       "      <th>V6</th>\n",
       "      <th>V7</th>\n",
       "      <th>V8</th>\n",
       "      <th>V9</th>\n",
       "      <th>...</th>\n",
       "      <th>V22</th>\n",
       "      <th>V23</th>\n",
       "      <th>V24</th>\n",
       "      <th>V25</th>\n",
       "      <th>V26</th>\n",
       "      <th>V27</th>\n",
       "      <th>V28</th>\n",
       "      <th>Amount</th>\n",
       "      <th>Class</th>\n",
       "      <th>Hours</th>\n",
       "    </tr>\n",
       "  </thead>\n",
       "  <tbody>\n",
       "    <tr>\n",
       "      <th>223578</th>\n",
       "      <td>143438.0</td>\n",
       "      <td>-3.056852</td>\n",
       "      <td>0.377451</td>\n",
       "      <td>-3.644246</td>\n",
       "      <td>2.400031</td>\n",
       "      <td>0.703693</td>\n",
       "      <td>-2.416369</td>\n",
       "      <td>-5.831413</td>\n",
       "      <td>-0.803384</td>\n",
       "      <td>-2.828287</td>\n",
       "      <td>...</td>\n",
       "      <td>0.511285</td>\n",
       "      <td>-1.076222</td>\n",
       "      <td>0.178987</td>\n",
       "      <td>0.220235</td>\n",
       "      <td>-0.699809</td>\n",
       "      <td>0.595588</td>\n",
       "      <td>-0.175424</td>\n",
       "      <td>2.178434</td>\n",
       "      <td>1</td>\n",
       "      <td>39.0</td>\n",
       "    </tr>\n",
       "    <tr>\n",
       "      <th>222133</th>\n",
       "      <td>142840.0</td>\n",
       "      <td>-2.329784</td>\n",
       "      <td>-0.854732</td>\n",
       "      <td>-3.286609</td>\n",
       "      <td>3.373001</td>\n",
       "      <td>-0.541198</td>\n",
       "      <td>-1.330573</td>\n",
       "      <td>-4.169874</td>\n",
       "      <td>1.773211</td>\n",
       "      <td>-1.775833</td>\n",
       "      <td>...</td>\n",
       "      <td>0.893065</td>\n",
       "      <td>1.065909</td>\n",
       "      <td>0.097671</td>\n",
       "      <td>-1.345551</td>\n",
       "      <td>-0.788329</td>\n",
       "      <td>1.100841</td>\n",
       "      <td>0.099370</td>\n",
       "      <td>4.464052</td>\n",
       "      <td>1</td>\n",
       "      <td>39.0</td>\n",
       "    </tr>\n",
       "    <tr>\n",
       "      <th>81186</th>\n",
       "      <td>58822.0</td>\n",
       "      <td>-2.684114</td>\n",
       "      <td>3.959639</td>\n",
       "      <td>-2.313058</td>\n",
       "      <td>3.403594</td>\n",
       "      <td>-1.899645</td>\n",
       "      <td>-1.392964</td>\n",
       "      <td>-3.308632</td>\n",
       "      <td>-0.987043</td>\n",
       "      <td>-1.977593</td>\n",
       "      <td>...</td>\n",
       "      <td>-0.990303</td>\n",
       "      <td>-0.326726</td>\n",
       "      <td>0.158378</td>\n",
       "      <td>0.006351</td>\n",
       "      <td>-0.493860</td>\n",
       "      <td>-1.454771</td>\n",
       "      <td>-1.043226</td>\n",
       "      <td>3.529113</td>\n",
       "      <td>1</td>\n",
       "      <td>16.0</td>\n",
       "    </tr>\n",
       "    <tr>\n",
       "      <th>6870</th>\n",
       "      <td>8757.0</td>\n",
       "      <td>-1.398030</td>\n",
       "      <td>4.202683</td>\n",
       "      <td>-3.130284</td>\n",
       "      <td>2.805336</td>\n",
       "      <td>-2.073765</td>\n",
       "      <td>-2.880598</td>\n",
       "      <td>-4.258714</td>\n",
       "      <td>2.016684</td>\n",
       "      <td>-1.439396</td>\n",
       "      <td>...</td>\n",
       "      <td>-0.516242</td>\n",
       "      <td>-0.012212</td>\n",
       "      <td>0.070614</td>\n",
       "      <td>0.058504</td>\n",
       "      <td>0.304883</td>\n",
       "      <td>0.426139</td>\n",
       "      <td>0.206327</td>\n",
       "      <td>0.682467</td>\n",
       "      <td>1</td>\n",
       "      <td>2.0</td>\n",
       "    </tr>\n",
       "    <tr>\n",
       "      <th>8972</th>\n",
       "      <td>12393.0</td>\n",
       "      <td>-2.540018</td>\n",
       "      <td>3.737942</td>\n",
       "      <td>-1.024936</td>\n",
       "      <td>3.264633</td>\n",
       "      <td>-1.866284</td>\n",
       "      <td>0.307340</td>\n",
       "      <td>-0.954739</td>\n",
       "      <td>-2.547904</td>\n",
       "      <td>2.820829</td>\n",
       "      <td>...</td>\n",
       "      <td>-0.078845</td>\n",
       "      <td>0.195045</td>\n",
       "      <td>0.479496</td>\n",
       "      <td>-0.506603</td>\n",
       "      <td>-0.409863</td>\n",
       "      <td>-2.780431</td>\n",
       "      <td>-0.651868</td>\n",
       "      <td>4.634619</td>\n",
       "      <td>1</td>\n",
       "      <td>3.0</td>\n",
       "    </tr>\n",
       "    <tr>\n",
       "      <th>...</th>\n",
       "      <td>...</td>\n",
       "      <td>...</td>\n",
       "      <td>...</td>\n",
       "      <td>...</td>\n",
       "      <td>...</td>\n",
       "      <td>...</td>\n",
       "      <td>...</td>\n",
       "      <td>...</td>\n",
       "      <td>...</td>\n",
       "      <td>...</td>\n",
       "      <td>...</td>\n",
       "      <td>...</td>\n",
       "      <td>...</td>\n",
       "      <td>...</td>\n",
       "      <td>...</td>\n",
       "      <td>...</td>\n",
       "      <td>...</td>\n",
       "      <td>...</td>\n",
       "      <td>...</td>\n",
       "      <td>...</td>\n",
       "      <td>...</td>\n",
       "    </tr>\n",
       "    <tr>\n",
       "      <th>8615</th>\n",
       "      <td>11629.0</td>\n",
       "      <td>-2.460421</td>\n",
       "      <td>9.583812</td>\n",
       "      <td>-6.463760</td>\n",
       "      <td>8.607557</td>\n",
       "      <td>-2.022910</td>\n",
       "      <td>-3.827896</td>\n",
       "      <td>-8.131776</td>\n",
       "      <td>3.815288</td>\n",
       "      <td>-6.272790</td>\n",
       "      <td>...</td>\n",
       "      <td>-0.189709</td>\n",
       "      <td>-0.500439</td>\n",
       "      <td>-1.189308</td>\n",
       "      <td>1.188536</td>\n",
       "      <td>0.605242</td>\n",
       "      <td>2.007850</td>\n",
       "      <td>0.838343</td>\n",
       "      <td>0.682467</td>\n",
       "      <td>1</td>\n",
       "      <td>3.0</td>\n",
       "    </tr>\n",
       "    <tr>\n",
       "      <th>123270</th>\n",
       "      <td>76867.0</td>\n",
       "      <td>1.327154</td>\n",
       "      <td>1.196622</td>\n",
       "      <td>-1.159736</td>\n",
       "      <td>2.012554</td>\n",
       "      <td>0.714718</td>\n",
       "      <td>-0.887747</td>\n",
       "      <td>0.151958</td>\n",
       "      <td>0.161840</td>\n",
       "      <td>0.009872</td>\n",
       "      <td>...</td>\n",
       "      <td>-0.734344</td>\n",
       "      <td>-0.106319</td>\n",
       "      <td>-0.224999</td>\n",
       "      <td>0.569167</td>\n",
       "      <td>-0.335033</td>\n",
       "      <td>0.089542</td>\n",
       "      <td>0.111581</td>\n",
       "      <td>0.682467</td>\n",
       "      <td>1</td>\n",
       "      <td>21.0</td>\n",
       "    </tr>\n",
       "    <tr>\n",
       "      <th>268375</th>\n",
       "      <td>163181.0</td>\n",
       "      <td>-3.049578</td>\n",
       "      <td>0.658796</td>\n",
       "      <td>-3.839820</td>\n",
       "      <td>1.678889</td>\n",
       "      <td>-0.362552</td>\n",
       "      <td>-0.506885</td>\n",
       "      <td>-4.273594</td>\n",
       "      <td>-0.640581</td>\n",
       "      <td>-2.971644</td>\n",
       "      <td>...</td>\n",
       "      <td>1.509239</td>\n",
       "      <td>-0.214359</td>\n",
       "      <td>-0.245727</td>\n",
       "      <td>0.893041</td>\n",
       "      <td>0.865758</td>\n",
       "      <td>0.885580</td>\n",
       "      <td>-1.011057</td>\n",
       "      <td>3.419932</td>\n",
       "      <td>1</td>\n",
       "      <td>45.0</td>\n",
       "    </tr>\n",
       "    <tr>\n",
       "      <th>208651</th>\n",
       "      <td>137211.0</td>\n",
       "      <td>0.718094</td>\n",
       "      <td>1.300905</td>\n",
       "      <td>-3.459148</td>\n",
       "      <td>2.179903</td>\n",
       "      <td>-0.696957</td>\n",
       "      <td>-0.105119</td>\n",
       "      <td>-3.488515</td>\n",
       "      <td>1.236081</td>\n",
       "      <td>-0.717418</td>\n",
       "      <td>...</td>\n",
       "      <td>0.043807</td>\n",
       "      <td>0.103090</td>\n",
       "      <td>-0.601505</td>\n",
       "      <td>0.127371</td>\n",
       "      <td>-0.163009</td>\n",
       "      <td>0.884657</td>\n",
       "      <td>0.349463</td>\n",
       "      <td>3.408911</td>\n",
       "      <td>1</td>\n",
       "      <td>38.0</td>\n",
       "    </tr>\n",
       "    <tr>\n",
       "      <th>8312</th>\n",
       "      <td>11092.0</td>\n",
       "      <td>0.410855</td>\n",
       "      <td>4.857313</td>\n",
       "      <td>-3.809798</td>\n",
       "      <td>6.094141</td>\n",
       "      <td>1.730287</td>\n",
       "      <td>-3.564943</td>\n",
       "      <td>-0.591035</td>\n",
       "      <td>-0.121406</td>\n",
       "      <td>-2.530713</td>\n",
       "      <td>...</td>\n",
       "      <td>-0.601967</td>\n",
       "      <td>-0.602125</td>\n",
       "      <td>-0.403114</td>\n",
       "      <td>1.568445</td>\n",
       "      <td>0.521884</td>\n",
       "      <td>0.540575</td>\n",
       "      <td>0.402666</td>\n",
       "      <td>0.682467</td>\n",
       "      <td>1</td>\n",
       "      <td>3.0</td>\n",
       "    </tr>\n",
       "  </tbody>\n",
       "</table>\n",
       "<p>492 rows × 32 columns</p>\n",
       "</div>"
      ],
      "text/plain": [
       "            Time        V1        V2        V3        V4        V5        V6  \\\n",
       "223578  143438.0 -3.056852  0.377451 -3.644246  2.400031  0.703693 -2.416369   \n",
       "222133  142840.0 -2.329784 -0.854732 -3.286609  3.373001 -0.541198 -1.330573   \n",
       "81186    58822.0 -2.684114  3.959639 -2.313058  3.403594 -1.899645 -1.392964   \n",
       "6870      8757.0 -1.398030  4.202683 -3.130284  2.805336 -2.073765 -2.880598   \n",
       "8972     12393.0 -2.540018  3.737942 -1.024936  3.264633 -1.866284  0.307340   \n",
       "...          ...       ...       ...       ...       ...       ...       ...   \n",
       "8615     11629.0 -2.460421  9.583812 -6.463760  8.607557 -2.022910 -3.827896   \n",
       "123270   76867.0  1.327154  1.196622 -1.159736  2.012554  0.714718 -0.887747   \n",
       "268375  163181.0 -3.049578  0.658796 -3.839820  1.678889 -0.362552 -0.506885   \n",
       "208651  137211.0  0.718094  1.300905 -3.459148  2.179903 -0.696957 -0.105119   \n",
       "8312     11092.0  0.410855  4.857313 -3.809798  6.094141  1.730287 -3.564943   \n",
       "\n",
       "              V7        V8        V9  ...       V22       V23       V24  \\\n",
       "223578 -5.831413 -0.803384 -2.828287  ...  0.511285 -1.076222  0.178987   \n",
       "222133 -4.169874  1.773211 -1.775833  ...  0.893065  1.065909  0.097671   \n",
       "81186  -3.308632 -0.987043 -1.977593  ... -0.990303 -0.326726  0.158378   \n",
       "6870   -4.258714  2.016684 -1.439396  ... -0.516242 -0.012212  0.070614   \n",
       "8972   -0.954739 -2.547904  2.820829  ... -0.078845  0.195045  0.479496   \n",
       "...          ...       ...       ...  ...       ...       ...       ...   \n",
       "8615   -8.131776  3.815288 -6.272790  ... -0.189709 -0.500439 -1.189308   \n",
       "123270  0.151958  0.161840  0.009872  ... -0.734344 -0.106319 -0.224999   \n",
       "268375 -4.273594 -0.640581 -2.971644  ...  1.509239 -0.214359 -0.245727   \n",
       "208651 -3.488515  1.236081 -0.717418  ...  0.043807  0.103090 -0.601505   \n",
       "8312   -0.591035 -0.121406 -2.530713  ... -0.601967 -0.602125 -0.403114   \n",
       "\n",
       "             V25       V26       V27       V28    Amount  Class  Hours  \n",
       "223578  0.220235 -0.699809  0.595588 -0.175424  2.178434      1   39.0  \n",
       "222133 -1.345551 -0.788329  1.100841  0.099370  4.464052      1   39.0  \n",
       "81186   0.006351 -0.493860 -1.454771 -1.043226  3.529113      1   16.0  \n",
       "6870    0.058504  0.304883  0.426139  0.206327  0.682467      1    2.0  \n",
       "8972   -0.506603 -0.409863 -2.780431 -0.651868  4.634619      1    3.0  \n",
       "...          ...       ...       ...       ...       ...    ...    ...  \n",
       "8615    1.188536  0.605242  2.007850  0.838343  0.682467      1    3.0  \n",
       "123270  0.569167 -0.335033  0.089542  0.111581  0.682467      1   21.0  \n",
       "268375  0.893041  0.865758  0.885580 -1.011057  3.419932      1   45.0  \n",
       "208651  0.127371 -0.163009  0.884657  0.349463  3.408911      1   38.0  \n",
       "8312    1.568445  0.521884  0.540575  0.402666  0.682467      1    3.0  \n",
       "\n",
       "[492 rows x 32 columns]"
      ]
     },
     "execution_count": 81,
     "metadata": {},
     "output_type": "execute_result"
    }
   ],
   "source": [
    "df2 = df[df['Class'] == 1].sample(492)\n",
    "df2"
   ]
  },
  {
   "cell_type": "code",
   "execution_count": 82,
   "id": "18a71976",
   "metadata": {},
   "outputs": [
    {
     "data": {
      "text/html": [
       "<div>\n",
       "<style scoped>\n",
       "    .dataframe tbody tr th:only-of-type {\n",
       "        vertical-align: middle;\n",
       "    }\n",
       "\n",
       "    .dataframe tbody tr th {\n",
       "        vertical-align: top;\n",
       "    }\n",
       "\n",
       "    .dataframe thead th {\n",
       "        text-align: right;\n",
       "    }\n",
       "</style>\n",
       "<table border=\"1\" class=\"dataframe\">\n",
       "  <thead>\n",
       "    <tr style=\"text-align: right;\">\n",
       "      <th></th>\n",
       "      <th>Time</th>\n",
       "      <th>V1</th>\n",
       "      <th>V2</th>\n",
       "      <th>V3</th>\n",
       "      <th>V4</th>\n",
       "      <th>V5</th>\n",
       "      <th>V6</th>\n",
       "      <th>V7</th>\n",
       "      <th>V8</th>\n",
       "      <th>V9</th>\n",
       "      <th>...</th>\n",
       "      <th>V22</th>\n",
       "      <th>V23</th>\n",
       "      <th>V24</th>\n",
       "      <th>V25</th>\n",
       "      <th>V26</th>\n",
       "      <th>V27</th>\n",
       "      <th>V28</th>\n",
       "      <th>Amount</th>\n",
       "      <th>Class</th>\n",
       "      <th>Hours</th>\n",
       "    </tr>\n",
       "  </thead>\n",
       "  <tbody>\n",
       "    <tr>\n",
       "      <th>426</th>\n",
       "      <td>NaN</td>\n",
       "      <td>NaN</td>\n",
       "      <td>NaN</td>\n",
       "      <td>NaN</td>\n",
       "      <td>NaN</td>\n",
       "      <td>NaN</td>\n",
       "      <td>NaN</td>\n",
       "      <td>NaN</td>\n",
       "      <td>NaN</td>\n",
       "      <td>NaN</td>\n",
       "      <td>...</td>\n",
       "      <td>NaN</td>\n",
       "      <td>NaN</td>\n",
       "      <td>NaN</td>\n",
       "      <td>NaN</td>\n",
       "      <td>NaN</td>\n",
       "      <td>NaN</td>\n",
       "      <td>NaN</td>\n",
       "      <td>NaN</td>\n",
       "      <td>NaN</td>\n",
       "      <td>NaN</td>\n",
       "    </tr>\n",
       "    <tr>\n",
       "      <th>541</th>\n",
       "      <td>NaN</td>\n",
       "      <td>NaN</td>\n",
       "      <td>NaN</td>\n",
       "      <td>NaN</td>\n",
       "      <td>NaN</td>\n",
       "      <td>NaN</td>\n",
       "      <td>NaN</td>\n",
       "      <td>NaN</td>\n",
       "      <td>NaN</td>\n",
       "      <td>NaN</td>\n",
       "      <td>...</td>\n",
       "      <td>NaN</td>\n",
       "      <td>NaN</td>\n",
       "      <td>NaN</td>\n",
       "      <td>NaN</td>\n",
       "      <td>NaN</td>\n",
       "      <td>NaN</td>\n",
       "      <td>NaN</td>\n",
       "      <td>NaN</td>\n",
       "      <td>NaN</td>\n",
       "      <td>NaN</td>\n",
       "    </tr>\n",
       "    <tr>\n",
       "      <th>623</th>\n",
       "      <td>NaN</td>\n",
       "      <td>NaN</td>\n",
       "      <td>NaN</td>\n",
       "      <td>NaN</td>\n",
       "      <td>NaN</td>\n",
       "      <td>NaN</td>\n",
       "      <td>NaN</td>\n",
       "      <td>NaN</td>\n",
       "      <td>NaN</td>\n",
       "      <td>NaN</td>\n",
       "      <td>...</td>\n",
       "      <td>NaN</td>\n",
       "      <td>NaN</td>\n",
       "      <td>NaN</td>\n",
       "      <td>NaN</td>\n",
       "      <td>NaN</td>\n",
       "      <td>NaN</td>\n",
       "      <td>NaN</td>\n",
       "      <td>NaN</td>\n",
       "      <td>NaN</td>\n",
       "      <td>NaN</td>\n",
       "    </tr>\n",
       "    <tr>\n",
       "      <th>1050</th>\n",
       "      <td>NaN</td>\n",
       "      <td>NaN</td>\n",
       "      <td>NaN</td>\n",
       "      <td>NaN</td>\n",
       "      <td>NaN</td>\n",
       "      <td>NaN</td>\n",
       "      <td>NaN</td>\n",
       "      <td>NaN</td>\n",
       "      <td>NaN</td>\n",
       "      <td>NaN</td>\n",
       "      <td>...</td>\n",
       "      <td>NaN</td>\n",
       "      <td>NaN</td>\n",
       "      <td>NaN</td>\n",
       "      <td>NaN</td>\n",
       "      <td>NaN</td>\n",
       "      <td>NaN</td>\n",
       "      <td>NaN</td>\n",
       "      <td>NaN</td>\n",
       "      <td>NaN</td>\n",
       "      <td>NaN</td>\n",
       "    </tr>\n",
       "    <tr>\n",
       "      <th>1739</th>\n",
       "      <td>NaN</td>\n",
       "      <td>NaN</td>\n",
       "      <td>NaN</td>\n",
       "      <td>NaN</td>\n",
       "      <td>NaN</td>\n",
       "      <td>NaN</td>\n",
       "      <td>NaN</td>\n",
       "      <td>NaN</td>\n",
       "      <td>NaN</td>\n",
       "      <td>NaN</td>\n",
       "      <td>...</td>\n",
       "      <td>NaN</td>\n",
       "      <td>NaN</td>\n",
       "      <td>NaN</td>\n",
       "      <td>NaN</td>\n",
       "      <td>NaN</td>\n",
       "      <td>NaN</td>\n",
       "      <td>NaN</td>\n",
       "      <td>NaN</td>\n",
       "      <td>NaN</td>\n",
       "      <td>NaN</td>\n",
       "    </tr>\n",
       "    <tr>\n",
       "      <th>...</th>\n",
       "      <td>...</td>\n",
       "      <td>...</td>\n",
       "      <td>...</td>\n",
       "      <td>...</td>\n",
       "      <td>...</td>\n",
       "      <td>...</td>\n",
       "      <td>...</td>\n",
       "      <td>...</td>\n",
       "      <td>...</td>\n",
       "      <td>...</td>\n",
       "      <td>...</td>\n",
       "      <td>...</td>\n",
       "      <td>...</td>\n",
       "      <td>...</td>\n",
       "      <td>...</td>\n",
       "      <td>...</td>\n",
       "      <td>...</td>\n",
       "      <td>...</td>\n",
       "      <td>...</td>\n",
       "      <td>...</td>\n",
       "      <td>...</td>\n",
       "    </tr>\n",
       "    <tr>\n",
       "      <th>282209</th>\n",
       "      <td>NaN</td>\n",
       "      <td>NaN</td>\n",
       "      <td>NaN</td>\n",
       "      <td>NaN</td>\n",
       "      <td>NaN</td>\n",
       "      <td>NaN</td>\n",
       "      <td>NaN</td>\n",
       "      <td>NaN</td>\n",
       "      <td>NaN</td>\n",
       "      <td>NaN</td>\n",
       "      <td>...</td>\n",
       "      <td>NaN</td>\n",
       "      <td>NaN</td>\n",
       "      <td>NaN</td>\n",
       "      <td>NaN</td>\n",
       "      <td>NaN</td>\n",
       "      <td>NaN</td>\n",
       "      <td>NaN</td>\n",
       "      <td>NaN</td>\n",
       "      <td>NaN</td>\n",
       "      <td>NaN</td>\n",
       "    </tr>\n",
       "    <tr>\n",
       "      <th>282657</th>\n",
       "      <td>NaN</td>\n",
       "      <td>NaN</td>\n",
       "      <td>NaN</td>\n",
       "      <td>NaN</td>\n",
       "      <td>NaN</td>\n",
       "      <td>NaN</td>\n",
       "      <td>NaN</td>\n",
       "      <td>NaN</td>\n",
       "      <td>NaN</td>\n",
       "      <td>NaN</td>\n",
       "      <td>...</td>\n",
       "      <td>NaN</td>\n",
       "      <td>NaN</td>\n",
       "      <td>NaN</td>\n",
       "      <td>NaN</td>\n",
       "      <td>NaN</td>\n",
       "      <td>NaN</td>\n",
       "      <td>NaN</td>\n",
       "      <td>NaN</td>\n",
       "      <td>NaN</td>\n",
       "      <td>NaN</td>\n",
       "    </tr>\n",
       "    <tr>\n",
       "      <th>282944</th>\n",
       "      <td>NaN</td>\n",
       "      <td>NaN</td>\n",
       "      <td>NaN</td>\n",
       "      <td>NaN</td>\n",
       "      <td>NaN</td>\n",
       "      <td>NaN</td>\n",
       "      <td>NaN</td>\n",
       "      <td>NaN</td>\n",
       "      <td>NaN</td>\n",
       "      <td>NaN</td>\n",
       "      <td>...</td>\n",
       "      <td>NaN</td>\n",
       "      <td>NaN</td>\n",
       "      <td>NaN</td>\n",
       "      <td>NaN</td>\n",
       "      <td>NaN</td>\n",
       "      <td>NaN</td>\n",
       "      <td>NaN</td>\n",
       "      <td>NaN</td>\n",
       "      <td>NaN</td>\n",
       "      <td>NaN</td>\n",
       "    </tr>\n",
       "    <tr>\n",
       "      <th>284732</th>\n",
       "      <td>NaN</td>\n",
       "      <td>NaN</td>\n",
       "      <td>NaN</td>\n",
       "      <td>NaN</td>\n",
       "      <td>NaN</td>\n",
       "      <td>NaN</td>\n",
       "      <td>NaN</td>\n",
       "      <td>NaN</td>\n",
       "      <td>NaN</td>\n",
       "      <td>NaN</td>\n",
       "      <td>...</td>\n",
       "      <td>NaN</td>\n",
       "      <td>NaN</td>\n",
       "      <td>NaN</td>\n",
       "      <td>NaN</td>\n",
       "      <td>NaN</td>\n",
       "      <td>NaN</td>\n",
       "      <td>NaN</td>\n",
       "      <td>NaN</td>\n",
       "      <td>NaN</td>\n",
       "      <td>NaN</td>\n",
       "    </tr>\n",
       "    <tr>\n",
       "      <th>284798</th>\n",
       "      <td>NaN</td>\n",
       "      <td>NaN</td>\n",
       "      <td>NaN</td>\n",
       "      <td>NaN</td>\n",
       "      <td>NaN</td>\n",
       "      <td>NaN</td>\n",
       "      <td>NaN</td>\n",
       "      <td>NaN</td>\n",
       "      <td>NaN</td>\n",
       "      <td>NaN</td>\n",
       "      <td>...</td>\n",
       "      <td>NaN</td>\n",
       "      <td>NaN</td>\n",
       "      <td>NaN</td>\n",
       "      <td>NaN</td>\n",
       "      <td>NaN</td>\n",
       "      <td>NaN</td>\n",
       "      <td>NaN</td>\n",
       "      <td>NaN</td>\n",
       "      <td>NaN</td>\n",
       "      <td>NaN</td>\n",
       "    </tr>\n",
       "  </tbody>\n",
       "</table>\n",
       "<p>1000 rows × 32 columns</p>\n",
       "</div>"
      ],
      "text/plain": [
       "        Time  V1  V2  V3  V4  V5  V6  V7  V8  V9  ...  V22  V23  V24  V25  \\\n",
       "426      NaN NaN NaN NaN NaN NaN NaN NaN NaN NaN  ...  NaN  NaN  NaN  NaN   \n",
       "541      NaN NaN NaN NaN NaN NaN NaN NaN NaN NaN  ...  NaN  NaN  NaN  NaN   \n",
       "623      NaN NaN NaN NaN NaN NaN NaN NaN NaN NaN  ...  NaN  NaN  NaN  NaN   \n",
       "1050     NaN NaN NaN NaN NaN NaN NaN NaN NaN NaN  ...  NaN  NaN  NaN  NaN   \n",
       "1739     NaN NaN NaN NaN NaN NaN NaN NaN NaN NaN  ...  NaN  NaN  NaN  NaN   \n",
       "...      ...  ..  ..  ..  ..  ..  ..  ..  ..  ..  ...  ...  ...  ...  ...   \n",
       "282209   NaN NaN NaN NaN NaN NaN NaN NaN NaN NaN  ...  NaN  NaN  NaN  NaN   \n",
       "282657   NaN NaN NaN NaN NaN NaN NaN NaN NaN NaN  ...  NaN  NaN  NaN  NaN   \n",
       "282944   NaN NaN NaN NaN NaN NaN NaN NaN NaN NaN  ...  NaN  NaN  NaN  NaN   \n",
       "284732   NaN NaN NaN NaN NaN NaN NaN NaN NaN NaN  ...  NaN  NaN  NaN  NaN   \n",
       "284798   NaN NaN NaN NaN NaN NaN NaN NaN NaN NaN  ...  NaN  NaN  NaN  NaN   \n",
       "\n",
       "        V26  V27  V28  Amount  Class  Hours  \n",
       "426     NaN  NaN  NaN     NaN    NaN    NaN  \n",
       "541     NaN  NaN  NaN     NaN    NaN    NaN  \n",
       "623     NaN  NaN  NaN     NaN    NaN    NaN  \n",
       "1050    NaN  NaN  NaN     NaN    NaN    NaN  \n",
       "1739    NaN  NaN  NaN     NaN    NaN    NaN  \n",
       "...     ...  ...  ...     ...    ...    ...  \n",
       "282209  NaN  NaN  NaN     NaN    NaN    NaN  \n",
       "282657  NaN  NaN  NaN     NaN    NaN    NaN  \n",
       "282944  NaN  NaN  NaN     NaN    NaN    NaN  \n",
       "284732  NaN  NaN  NaN     NaN    NaN    NaN  \n",
       "284798  NaN  NaN  NaN     NaN    NaN    NaN  \n",
       "\n",
       "[1000 rows x 32 columns]"
      ]
     },
     "execution_count": 82,
     "metadata": {},
     "output_type": "execute_result"
    }
   ],
   "source": [
    "x =pd.concat([df1+df2], axis=1)\n",
    "x"
   ]
  },
  {
   "cell_type": "code",
   "execution_count": 83,
   "id": "78465be7",
   "metadata": {},
   "outputs": [],
   "source": [
    "X = df.drop('Class', axis=1)\n",
    "y = df['Class']"
   ]
  },
  {
   "cell_type": "code",
   "execution_count": 84,
   "id": "54250c04",
   "metadata": {},
   "outputs": [
    {
     "data": {
      "text/html": [
       "<div>\n",
       "<style scoped>\n",
       "    .dataframe tbody tr th:only-of-type {\n",
       "        vertical-align: middle;\n",
       "    }\n",
       "\n",
       "    .dataframe tbody tr th {\n",
       "        vertical-align: top;\n",
       "    }\n",
       "\n",
       "    .dataframe thead th {\n",
       "        text-align: right;\n",
       "    }\n",
       "</style>\n",
       "<table border=\"1\" class=\"dataframe\">\n",
       "  <thead>\n",
       "    <tr style=\"text-align: right;\">\n",
       "      <th></th>\n",
       "      <th>Time</th>\n",
       "      <th>V1</th>\n",
       "      <th>V2</th>\n",
       "      <th>V3</th>\n",
       "      <th>V4</th>\n",
       "      <th>V5</th>\n",
       "      <th>V6</th>\n",
       "      <th>V7</th>\n",
       "      <th>V8</th>\n",
       "      <th>V9</th>\n",
       "      <th>...</th>\n",
       "      <th>V21</th>\n",
       "      <th>V22</th>\n",
       "      <th>V23</th>\n",
       "      <th>V24</th>\n",
       "      <th>V25</th>\n",
       "      <th>V26</th>\n",
       "      <th>V27</th>\n",
       "      <th>V28</th>\n",
       "      <th>Amount</th>\n",
       "      <th>Hours</th>\n",
       "    </tr>\n",
       "  </thead>\n",
       "  <tbody>\n",
       "    <tr>\n",
       "      <th>0</th>\n",
       "      <td>0.0</td>\n",
       "      <td>-1.080732</td>\n",
       "      <td>-0.072236</td>\n",
       "      <td>3.312132</td>\n",
       "      <td>1.378155</td>\n",
       "      <td>-0.336689</td>\n",
       "      <td>0.436551</td>\n",
       "      <td>0.239614</td>\n",
       "      <td>0.100070</td>\n",
       "      <td>0.363787</td>\n",
       "      <td>...</td>\n",
       "      <td>-0.018323</td>\n",
       "      <td>0.277838</td>\n",
       "      <td>-0.110039</td>\n",
       "      <td>0.066928</td>\n",
       "      <td>0.128539</td>\n",
       "      <td>-0.189115</td>\n",
       "      <td>0.134450</td>\n",
       "      <td>-0.021081</td>\n",
       "      <td>4.490035</td>\n",
       "      <td>0.0</td>\n",
       "    </tr>\n",
       "    <tr>\n",
       "      <th>1</th>\n",
       "      <td>0.0</td>\n",
       "      <td>1.484882</td>\n",
       "      <td>0.273183</td>\n",
       "      <td>0.171049</td>\n",
       "      <td>0.448154</td>\n",
       "      <td>0.060074</td>\n",
       "      <td>-0.083316</td>\n",
       "      <td>-0.078801</td>\n",
       "      <td>0.086125</td>\n",
       "      <td>-0.255425</td>\n",
       "      <td>...</td>\n",
       "      <td>-0.228156</td>\n",
       "      <td>-0.638672</td>\n",
       "      <td>0.101657</td>\n",
       "      <td>-0.339846</td>\n",
       "      <td>0.167170</td>\n",
       "      <td>0.125895</td>\n",
       "      <td>-0.008979</td>\n",
       "      <td>0.014711</td>\n",
       "      <td>1.268075</td>\n",
       "      <td>0.0</td>\n",
       "    </tr>\n",
       "    <tr>\n",
       "      <th>2</th>\n",
       "      <td>1.0</td>\n",
       "      <td>-1.079772</td>\n",
       "      <td>-1.211001</td>\n",
       "      <td>2.183093</td>\n",
       "      <td>0.379780</td>\n",
       "      <td>-0.499746</td>\n",
       "      <td>1.520191</td>\n",
       "      <td>0.791604</td>\n",
       "      <td>0.256047</td>\n",
       "      <td>-1.514654</td>\n",
       "      <td>...</td>\n",
       "      <td>0.245184</td>\n",
       "      <td>0.771679</td>\n",
       "      <td>0.933941</td>\n",
       "      <td>-0.689281</td>\n",
       "      <td>-0.327642</td>\n",
       "      <td>-0.139097</td>\n",
       "      <td>-0.055197</td>\n",
       "      <td>-0.059971</td>\n",
       "      <td>5.212956</td>\n",
       "      <td>0.0</td>\n",
       "    </tr>\n",
       "    <tr>\n",
       "      <th>3</th>\n",
       "      <td>1.0</td>\n",
       "      <td>-0.809363</td>\n",
       "      <td>-0.181839</td>\n",
       "      <td>2.211152</td>\n",
       "      <td>-0.863291</td>\n",
       "      <td>-0.010307</td>\n",
       "      <td>1.095690</td>\n",
       "      <td>0.237624</td>\n",
       "      <td>0.396379</td>\n",
       "      <td>-1.387024</td>\n",
       "      <td>...</td>\n",
       "      <td>-0.108866</td>\n",
       "      <td>0.005274</td>\n",
       "      <td>-0.189062</td>\n",
       "      <td>-1.175575</td>\n",
       "      <td>0.647376</td>\n",
       "      <td>-0.221929</td>\n",
       "      <td>0.062924</td>\n",
       "      <td>0.061227</td>\n",
       "      <td>4.337344</td>\n",
       "      <td>0.0</td>\n",
       "    </tr>\n",
       "    <tr>\n",
       "      <th>4</th>\n",
       "      <td>2.0</td>\n",
       "      <td>-0.944721</td>\n",
       "      <td>0.945546</td>\n",
       "      <td>1.869564</td>\n",
       "      <td>0.403034</td>\n",
       "      <td>-0.404874</td>\n",
       "      <td>0.094653</td>\n",
       "      <td>0.593025</td>\n",
       "      <td>-0.261047</td>\n",
       "      <td>0.817739</td>\n",
       "      <td>...</td>\n",
       "      <td>-0.009435</td>\n",
       "      <td>0.798278</td>\n",
       "      <td>-0.136790</td>\n",
       "      <td>0.141267</td>\n",
       "      <td>-0.206010</td>\n",
       "      <td>0.502292</td>\n",
       "      <td>0.221775</td>\n",
       "      <td>0.212472</td>\n",
       "      <td>3.879280</td>\n",
       "      <td>0.0</td>\n",
       "    </tr>\n",
       "    <tr>\n",
       "      <th>...</th>\n",
       "      <td>...</td>\n",
       "      <td>...</td>\n",
       "      <td>...</td>\n",
       "      <td>...</td>\n",
       "      <td>...</td>\n",
       "      <td>...</td>\n",
       "      <td>...</td>\n",
       "      <td>...</td>\n",
       "      <td>...</td>\n",
       "      <td>...</td>\n",
       "      <td>...</td>\n",
       "      <td>...</td>\n",
       "      <td>...</td>\n",
       "      <td>...</td>\n",
       "      <td>...</td>\n",
       "      <td>...</td>\n",
       "      <td>...</td>\n",
       "      <td>...</td>\n",
       "      <td>...</td>\n",
       "      <td>...</td>\n",
       "      <td>...</td>\n",
       "    </tr>\n",
       "    <tr>\n",
       "      <th>284802</th>\n",
       "      <td>172786.0</td>\n",
       "      <td>-5.315610</td>\n",
       "      <td>14.378982</td>\n",
       "      <td>-5.774756</td>\n",
       "      <td>-2.066656</td>\n",
       "      <td>-5.165754</td>\n",
       "      <td>-3.272947</td>\n",
       "      <td>-4.915054</td>\n",
       "      <td>11.091985</td>\n",
       "      <td>1.914428</td>\n",
       "      <td>...</td>\n",
       "      <td>0.211346</td>\n",
       "      <td>0.111864</td>\n",
       "      <td>1.044386</td>\n",
       "      <td>-0.509348</td>\n",
       "      <td>1.436807</td>\n",
       "      <td>0.250034</td>\n",
       "      <td>0.980706</td>\n",
       "      <td>0.790622</td>\n",
       "      <td>0.563719</td>\n",
       "      <td>47.0</td>\n",
       "    </tr>\n",
       "    <tr>\n",
       "      <th>284803</th>\n",
       "      <td>172787.0</td>\n",
       "      <td>-0.635800</td>\n",
       "      <td>-0.054766</td>\n",
       "      <td>2.559832</td>\n",
       "      <td>-0.738589</td>\n",
       "      <td>0.877777</td>\n",
       "      <td>0.944178</td>\n",
       "      <td>0.024330</td>\n",
       "      <td>0.306621</td>\n",
       "      <td>0.584800</td>\n",
       "      <td>...</td>\n",
       "      <td>0.212083</td>\n",
       "      <td>0.924384</td>\n",
       "      <td>0.012469</td>\n",
       "      <td>-1.016226</td>\n",
       "      <td>-0.606624</td>\n",
       "      <td>-0.395255</td>\n",
       "      <td>0.068711</td>\n",
       "      <td>-0.053704</td>\n",
       "      <td>3.023876</td>\n",
       "      <td>47.0</td>\n",
       "    </tr>\n",
       "    <tr>\n",
       "      <th>284804</th>\n",
       "      <td>172788.0</td>\n",
       "      <td>2.628917</td>\n",
       "      <td>-0.292648</td>\n",
       "      <td>-2.419053</td>\n",
       "      <td>-0.557828</td>\n",
       "      <td>2.696438</td>\n",
       "      <td>2.387003</td>\n",
       "      <td>-0.296804</td>\n",
       "      <td>0.771292</td>\n",
       "      <td>0.432454</td>\n",
       "      <td>...</td>\n",
       "      <td>0.229569</td>\n",
       "      <td>0.578229</td>\n",
       "      <td>-0.037449</td>\n",
       "      <td>0.640134</td>\n",
       "      <td>0.265745</td>\n",
       "      <td>-0.087371</td>\n",
       "      <td>0.004456</td>\n",
       "      <td>-0.026605</td>\n",
       "      <td>3.854348</td>\n",
       "      <td>47.0</td>\n",
       "    </tr>\n",
       "    <tr>\n",
       "      <th>284805</th>\n",
       "      <td>172788.0</td>\n",
       "      <td>-0.227924</td>\n",
       "      <td>0.556898</td>\n",
       "      <td>0.776547</td>\n",
       "      <td>0.689799</td>\n",
       "      <td>-0.375947</td>\n",
       "      <td>0.579011</td>\n",
       "      <td>-0.686070</td>\n",
       "      <td>0.737218</td>\n",
       "      <td>0.392087</td>\n",
       "      <td>...</td>\n",
       "      <td>0.262043</td>\n",
       "      <td>0.800049</td>\n",
       "      <td>-0.162364</td>\n",
       "      <td>0.123205</td>\n",
       "      <td>-0.569159</td>\n",
       "      <td>0.546668</td>\n",
       "      <td>0.109417</td>\n",
       "      <td>0.103876</td>\n",
       "      <td>2.273259</td>\n",
       "      <td>47.0</td>\n",
       "    </tr>\n",
       "    <tr>\n",
       "      <th>284806</th>\n",
       "      <td>172792.0</td>\n",
       "      <td>-0.478413</td>\n",
       "      <td>-0.186186</td>\n",
       "      <td>0.777539</td>\n",
       "      <td>-0.506271</td>\n",
       "      <td>-0.012543</td>\n",
       "      <td>-0.702771</td>\n",
       "      <td>1.577493</td>\n",
       "      <td>-0.393454</td>\n",
       "      <td>0.486180</td>\n",
       "      <td>...</td>\n",
       "      <td>0.257952</td>\n",
       "      <td>0.643078</td>\n",
       "      <td>0.381515</td>\n",
       "      <td>0.008797</td>\n",
       "      <td>-0.473649</td>\n",
       "      <td>-0.818267</td>\n",
       "      <td>-0.002415</td>\n",
       "      <td>0.013637</td>\n",
       "      <td>4.782755</td>\n",
       "      <td>47.0</td>\n",
       "    </tr>\n",
       "  </tbody>\n",
       "</table>\n",
       "<p>284807 rows × 31 columns</p>\n",
       "</div>"
      ],
      "text/plain": [
       "            Time        V1         V2        V3        V4        V5        V6  \\\n",
       "0            0.0 -1.080732  -0.072236  3.312132  1.378155 -0.336689  0.436551   \n",
       "1            0.0  1.484882   0.273183  0.171049  0.448154  0.060074 -0.083316   \n",
       "2            1.0 -1.079772  -1.211001  2.183093  0.379780 -0.499746  1.520191   \n",
       "3            1.0 -0.809363  -0.181839  2.211152 -0.863291 -0.010307  1.095690   \n",
       "4            2.0 -0.944721   0.945546  1.869564  0.403034 -0.404874  0.094653   \n",
       "...          ...       ...        ...       ...       ...       ...       ...   \n",
       "284802  172786.0 -5.315610  14.378982 -5.774756 -2.066656 -5.165754 -3.272947   \n",
       "284803  172787.0 -0.635800  -0.054766  2.559832 -0.738589  0.877777  0.944178   \n",
       "284804  172788.0  2.628917  -0.292648 -2.419053 -0.557828  2.696438  2.387003   \n",
       "284805  172788.0 -0.227924   0.556898  0.776547  0.689799 -0.375947  0.579011   \n",
       "284806  172792.0 -0.478413  -0.186186  0.777539 -0.506271 -0.012543 -0.702771   \n",
       "\n",
       "              V7         V8        V9  ...       V21       V22       V23  \\\n",
       "0       0.239614   0.100070  0.363787  ... -0.018323  0.277838 -0.110039   \n",
       "1      -0.078801   0.086125 -0.255425  ... -0.228156 -0.638672  0.101657   \n",
       "2       0.791604   0.256047 -1.514654  ...  0.245184  0.771679  0.933941   \n",
       "3       0.237624   0.396379 -1.387024  ... -0.108866  0.005274 -0.189062   \n",
       "4       0.593025  -0.261047  0.817739  ... -0.009435  0.798278 -0.136790   \n",
       "...          ...        ...       ...  ...       ...       ...       ...   \n",
       "284802 -4.915054  11.091985  1.914428  ...  0.211346  0.111864  1.044386   \n",
       "284803  0.024330   0.306621  0.584800  ...  0.212083  0.924384  0.012469   \n",
       "284804 -0.296804   0.771292  0.432454  ...  0.229569  0.578229 -0.037449   \n",
       "284805 -0.686070   0.737218  0.392087  ...  0.262043  0.800049 -0.162364   \n",
       "284806  1.577493  -0.393454  0.486180  ...  0.257952  0.643078  0.381515   \n",
       "\n",
       "             V24       V25       V26       V27       V28    Amount  Hours  \n",
       "0       0.066928  0.128539 -0.189115  0.134450 -0.021081  4.490035    0.0  \n",
       "1      -0.339846  0.167170  0.125895 -0.008979  0.014711  1.268075    0.0  \n",
       "2      -0.689281 -0.327642 -0.139097 -0.055197 -0.059971  5.212956    0.0  \n",
       "3      -1.175575  0.647376 -0.221929  0.062924  0.061227  4.337344    0.0  \n",
       "4       0.141267 -0.206010  0.502292  0.221775  0.212472  3.879280    0.0  \n",
       "...          ...       ...       ...       ...       ...       ...    ...  \n",
       "284802 -0.509348  1.436807  0.250034  0.980706  0.790622  0.563719   47.0  \n",
       "284803 -1.016226 -0.606624 -0.395255  0.068711 -0.053704  3.023876   47.0  \n",
       "284804  0.640134  0.265745 -0.087371  0.004456 -0.026605  3.854348   47.0  \n",
       "284805  0.123205 -0.569159  0.546668  0.109417  0.103876  2.273259   47.0  \n",
       "284806  0.008797 -0.473649 -0.818267 -0.002415  0.013637  4.782755   47.0  \n",
       "\n",
       "[284807 rows x 31 columns]"
      ]
     },
     "execution_count": 84,
     "metadata": {},
     "output_type": "execute_result"
    }
   ],
   "source": [
    "X"
   ]
  },
  {
   "cell_type": "code",
   "execution_count": 85,
   "id": "ed4af878",
   "metadata": {},
   "outputs": [
    {
     "data": {
      "text/plain": [
       "0         0\n",
       "1         0\n",
       "2         0\n",
       "3         0\n",
       "4         0\n",
       "         ..\n",
       "284802    0\n",
       "284803    0\n",
       "284804    0\n",
       "284805    0\n",
       "284806    0\n",
       "Name: Class, Length: 284807, dtype: int64"
      ]
     },
     "execution_count": 85,
     "metadata": {},
     "output_type": "execute_result"
    }
   ],
   "source": [
    "y"
   ]
  },
  {
   "cell_type": "markdown",
   "id": "dc1dfdec",
   "metadata": {},
   "source": [
    "## Train_test_split"
   ]
  },
  {
   "cell_type": "code",
   "execution_count": 86,
   "id": "e0b86ae6",
   "metadata": {},
   "outputs": [],
   "source": [
    "from sklearn.model_selection import train_test_split\n",
    "X_train, X_test, y_train, y_test = train_test_split(X,y, test_size=0.2, random_state=0)"
   ]
  },
  {
   "cell_type": "markdown",
   "id": "5ca37cae",
   "metadata": {},
   "source": [
    "## Standard Scalling"
   ]
  },
  {
   "cell_type": "code",
   "execution_count": 88,
   "id": "9fbab448",
   "metadata": {},
   "outputs": [],
   "source": [
    "from sklearn.preprocessing import StandardScaler\n",
    "sc=StandardScaler()\n",
    "X_train.iloc[:,1:8] = sc.fit_transform(X_train.iloc[:,1:8])\n",
    "X_test.iloc[:,1:8] = sc.transform(X_test.iloc[:,1:8])"
   ]
  },
  {
   "cell_type": "markdown",
   "id": "e2a34d6e",
   "metadata": {},
   "source": [
    "## Machine Learning Modelling & Evaluattion\n",
    "\n",
    "### 1 Logistic regression"
   ]
  },
  {
   "cell_type": "code",
   "execution_count": 89,
   "id": "38c01d7e",
   "metadata": {},
   "outputs": [
    {
     "name": "stdout",
     "output_type": "stream",
     "text": [
      "Train Accuracy: 0.9992099892470758\n",
      "Cross Validation Score: 0.9991002655313921\n",
      "Test Accuracy: 0.9992977774656788\n"
     ]
    }
   ],
   "source": [
    "# Modelling\n",
    "from sklearn.linear_model import LogisticRegression\n",
    "from sklearn.metrics import accuracy_score\n",
    "from sklearn.model_selection import cross_val_score\n",
    "log_model = LogisticRegression(random_state=0)\n",
    "log_model.fit(X_train, y_train)\n",
    "# Prediction\n",
    "ypred_train=log_model.predict(X_train)\n",
    "ypred_test=log_model.predict(X_test)\n",
    "#cross_val_score, Train accuracy, test accuracy\n",
    "print('Train Accuracy:', accuracy_score(y_train,ypred_train))\n",
    "print('Cross Validation Score:',cross_val_score(log_model,X_train,y_train,cv=5,scoring='accuracy').mean())\n",
    "print('Test Accuracy:', accuracy_score(y_test, ypred_test))"
   ]
  },
  {
   "cell_type": "code",
   "execution_count": null,
   "id": "4541c93a",
   "metadata": {},
   "outputs": [],
   "source": [
    "f['class'].value_counts()"
   ]
  },
  {
   "cell_type": "markdown",
   "id": "1345a651",
   "metadata": {},
   "source": [
    "## Confusion Matrix"
   ]
  },
  {
   "cell_type": "code",
   "execution_count": null,
   "id": "7ac9e9a9",
   "metadata": {},
   "outputs": [],
   "source": [
    "from sklearn.metrics import confusion_matrix\n",
    "cm = confusion_matrix(y_test, ypred_test)\n",
    "cm"
   ]
  },
  {
   "cell_type": "code",
   "execution_count": null,
   "id": "ccbcb47d",
   "metadata": {},
   "outputs": [],
   "source": [
    "from sklearn.metrics import ConfusionMatrixDisplay\n",
    "ConfusionMatrixDisplay(cm,display_labels\n",
    "                      =df['Class'].unique()).plot()\n",
    "plt.show()"
   ]
  },
  {
   "cell_type": "markdown",
   "id": "bfed5ce3",
   "metadata": {},
   "source": [
    "## Classification Report"
   ]
  },
  {
   "cell_type": "code",
   "execution_count": null,
   "id": "cdc4fb0c",
   "metadata": {},
   "outputs": [],
   "source": [
    "from sklearn.metrics import classification_report\n",
    "print(classification_report(y_test, ypred_test))"
   ]
  },
  {
   "cell_type": "code",
   "execution_count": null,
   "id": "7f171780",
   "metadata": {},
   "outputs": [],
   "source": []
  }
 ],
 "metadata": {
  "kernelspec": {
   "display_name": "Python 3 (ipykernel)",
   "language": "python",
   "name": "python3"
  },
  "language_info": {
   "codemirror_mode": {
    "name": "ipython",
    "version": 3
   },
   "file_extension": ".py",
   "mimetype": "text/x-python",
   "name": "python",
   "nbconvert_exporter": "python",
   "pygments_lexer": "ipython3",
   "version": "3.11.5"
  }
 },
 "nbformat": 4,
 "nbformat_minor": 5
}
